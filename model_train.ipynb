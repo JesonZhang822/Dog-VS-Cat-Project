{
 "cells": [
  {
   "cell_type": "code",
   "execution_count": 1,
   "metadata": {},
   "outputs": [
    {
     "name": "stderr",
     "output_type": "stream",
     "text": [
      "/home/ubuntu/anaconda3/envs/tensorflow_p36/lib/python3.6/site-packages/h5py/__init__.py:36: FutureWarning: Conversion of the second argument of issubdtype from `float` to `np.floating` is deprecated. In future, it will be treated as `np.float64 == np.dtype(float).type`.\n",
      "  from ._conv import register_converters as _register_converters\n"
     ]
    }
   ],
   "source": [
    "import numpy as np\n",
    "import h5py\n",
    "\n",
    "X_train = []\n",
    "X_valid = []\n",
    "X_test = []\n",
    "\n",
    "# 导入数据预处理的特征\n",
    "model_name = [\"gap_pred_resnet50.h5\"]\n",
    "for filename in model_name:\n",
    "    with h5py.File(filename, 'r') as h:\n",
    "        X_train.append(np.array(h['train']))\n",
    "        X_test.append(np.array(h['test']))\n",
    "        X_valid.append(np.array(h['valid']))\n",
    "        y_train = np.array(h['train_label'])\n",
    "        y_valid = np.array(h['valid_label'])\n",
    "    \n",
    "        \n",
    "X_train = np.concatenate(X_train, axis=1)\n",
    "X_valid = np.concatenate(X_valid,axis = 1)\n",
    "X_test = np.concatenate(X_test, axis=1)\n",
    "\n"
   ]
  },
  {
   "cell_type": "code",
   "execution_count": 2,
   "metadata": {},
   "outputs": [
    {
     "name": "stderr",
     "output_type": "stream",
     "text": [
      "Using TensorFlow backend.\n",
      "/home/ubuntu/anaconda3/envs/tensorflow_p36/lib/python3.6/site-packages/matplotlib/__init__.py:1067: UserWarning: Duplicate key in file \"/home/ubuntu/.config/matplotlib/matplotlibrc\", line #2\n",
      "  (fname, cnt))\n",
      "/home/ubuntu/anaconda3/envs/tensorflow_p36/lib/python3.6/site-packages/matplotlib/__init__.py:1067: UserWarning: Duplicate key in file \"/home/ubuntu/.config/matplotlib/matplotlibrc\", line #3\n",
      "  (fname, cnt))\n"
     ]
    }
   ],
   "source": [
    "from keras.models import Model\n",
    "from keras.layers import Input,Dropout,Dense,Flatten\n",
    "\n",
    "np.random.seed(2018)\n",
    "\n",
    "#搭建模型Top层\n",
    "input_tensor = Input(X_train.shape[1:])\n",
    "x = Dense(1, activation='sigmoid')(input_tensor)\n",
    "model = Model(input_tensor, x)\n",
    "\n",
    "model.compile(optimizer='adadelta',\n",
    "              loss='binary_crossentropy',\n",
    "              metrics=['accuracy'])"
   ]
  },
  {
   "cell_type": "code",
   "execution_count": 3,
   "metadata": {},
   "outputs": [
    {
     "name": "stdout",
     "output_type": "stream",
     "text": [
      "_________________________________________________________________\n",
      "Layer (type)                 Output Shape              Param #   \n",
      "=================================================================\n",
      "input_1 (InputLayer)         (None, 2048)              0         \n",
      "_________________________________________________________________\n",
      "dense_1 (Dense)              (None, 1)                 2049      \n",
      "=================================================================\n",
      "Total params: 2,049\n",
      "Trainable params: 2,049\n",
      "Non-trainable params: 0\n",
      "_________________________________________________________________\n"
     ]
    }
   ],
   "source": [
    "model.summary()"
   ]
  },
  {
   "cell_type": "code",
   "execution_count": 4,
   "metadata": {},
   "outputs": [
    {
     "name": "stdout",
     "output_type": "stream",
     "text": [
      "Train on 20000 samples, validate on 5000 samples\n",
      "Epoch 1/50\n",
      "20000/20000 [==============================] - 36s 2ms/step - loss: 0.1506 - acc: 0.9461 - val_loss: 0.0804 - val_acc: 0.9716\n",
      "Epoch 2/50\n",
      "20000/20000 [==============================] - 1s 27us/step - loss: 0.0701 - acc: 0.9743 - val_loss: 0.0628 - val_acc: 0.9758\n",
      "Epoch 3/50\n",
      "20000/20000 [==============================] - 1s 27us/step - loss: 0.0596 - acc: 0.9771 - val_loss: 0.0793 - val_acc: 0.9696\n",
      "Epoch 4/50\n",
      "20000/20000 [==============================] - 1s 27us/step - loss: 0.0543 - acc: 0.9791 - val_loss: 0.0584 - val_acc: 0.9768\n",
      "Epoch 5/50\n",
      "20000/20000 [==============================] - 1s 27us/step - loss: 0.0514 - acc: 0.9805 - val_loss: 0.0769 - val_acc: 0.9682\n",
      "Epoch 6/50\n",
      "20000/20000 [==============================] - 1s 27us/step - loss: 0.0475 - acc: 0.9808 - val_loss: 0.0623 - val_acc: 0.9768\n",
      "Epoch 7/50\n",
      "20000/20000 [==============================] - 1s 27us/step - loss: 0.0458 - acc: 0.9820 - val_loss: 0.0542 - val_acc: 0.9778\n",
      "Epoch 8/50\n",
      "20000/20000 [==============================] - 1s 28us/step - loss: 0.0443 - acc: 0.9835 - val_loss: 0.0546 - val_acc: 0.9782\n",
      "Epoch 9/50\n",
      "20000/20000 [==============================] - 1s 28us/step - loss: 0.0427 - acc: 0.9834 - val_loss: 0.0603 - val_acc: 0.9782\n",
      "Epoch 10/50\n",
      "20000/20000 [==============================] - 1s 27us/step - loss: 0.0408 - acc: 0.9847 - val_loss: 0.0597 - val_acc: 0.9784\n",
      "Epoch 11/50\n",
      "20000/20000 [==============================] - 1s 28us/step - loss: 0.0393 - acc: 0.9847 - val_loss: 0.0563 - val_acc: 0.9786\n",
      "Epoch 12/50\n",
      "20000/20000 [==============================] - 1s 27us/step - loss: 0.0380 - acc: 0.9859 - val_loss: 0.0540 - val_acc: 0.9786\n",
      "Epoch 13/50\n",
      "20000/20000 [==============================] - 1s 27us/step - loss: 0.0374 - acc: 0.9864 - val_loss: 0.0576 - val_acc: 0.9780\n",
      "Epoch 14/50\n",
      "20000/20000 [==============================] - 1s 28us/step - loss: 0.0363 - acc: 0.9863 - val_loss: 0.0541 - val_acc: 0.9794\n",
      "Epoch 15/50\n",
      "20000/20000 [==============================] - 1s 27us/step - loss: 0.0351 - acc: 0.9872 - val_loss: 0.0596 - val_acc: 0.9758\n",
      "Epoch 16/50\n",
      "20000/20000 [==============================] - 1s 27us/step - loss: 0.0340 - acc: 0.9881 - val_loss: 0.0564 - val_acc: 0.9782\n",
      "Epoch 17/50\n",
      "20000/20000 [==============================] - 1s 28us/step - loss: 0.0334 - acc: 0.9874 - val_loss: 0.0543 - val_acc: 0.9788\n",
      "Epoch 18/50\n",
      "20000/20000 [==============================] - 1s 28us/step - loss: 0.0329 - acc: 0.9886 - val_loss: 0.0574 - val_acc: 0.9770\n",
      "Epoch 19/50\n",
      "20000/20000 [==============================] - 1s 27us/step - loss: 0.0321 - acc: 0.9885 - val_loss: 0.0562 - val_acc: 0.9776\n",
      "Epoch 20/50\n",
      "20000/20000 [==============================] - 1s 27us/step - loss: 0.0313 - acc: 0.9887 - val_loss: 0.0631 - val_acc: 0.9760\n",
      "Epoch 21/50\n",
      "20000/20000 [==============================] - 1s 28us/step - loss: 0.0300 - acc: 0.9892 - val_loss: 0.0630 - val_acc: 0.9774\n",
      "Epoch 22/50\n",
      "20000/20000 [==============================] - 1s 27us/step - loss: 0.0299 - acc: 0.9895 - val_loss: 0.0608 - val_acc: 0.9780\n",
      "Epoch 23/50\n",
      "20000/20000 [==============================] - 1s 27us/step - loss: 0.0291 - acc: 0.9900 - val_loss: 0.0568 - val_acc: 0.9786\n",
      "Epoch 24/50\n",
      "20000/20000 [==============================] - 1s 28us/step - loss: 0.0287 - acc: 0.9899 - val_loss: 0.0598 - val_acc: 0.9778\n",
      "Epoch 00024: early stopping\n"
     ]
    },
    {
     "data": {
      "text/plain": [
       "<keras.callbacks.History at 0x7f643d8dab00>"
      ]
     },
     "execution_count": 4,
     "metadata": {},
     "output_type": "execute_result"
    }
   ],
   "source": [
    "from PIL import Image\n",
    "from keras.preprocessing import image\n",
    "from keras.callbacks import Callback,EarlyStopping\n",
    "\n",
    "#回调函数，获取loss和acc\n",
    "class LossHistory(Callback):\n",
    "    def on_train_begin(self,log={}):\n",
    "        self.losses = []\n",
    "        self.val_losses = []\n",
    "        self.acc = []\n",
    "        self.val_acc = []\n",
    "    def on_epoch_end(self,batch,logs={}):\n",
    "        self.losses.append(logs.get('loss'))\n",
    "        self.val_losses.append(logs.get('val_loss'))\n",
    "        self.acc.append(logs.get('acc'))\n",
    "        self.val_acc.append(logs.get('val_acc'))\n",
    "\n",
    "history = LossHistory()\n",
    "\n",
    "#早停机制，监控验证集上的精度Acc\n",
    "earlystop = EarlyStopping(monitor='val_acc',patience =10,verbose=1,mode = 'max')\n",
    "#Validation Data\n",
    "valid_data = (X_valid,y_valid)\n",
    "#训练模型\n",
    "model.fit(X_train, y_train, batch_size=128, epochs=50,validation_data=valid_data,callbacks = [history,earlystop])"
   ]
  },
  {
   "cell_type": "code",
   "execution_count": 5,
   "metadata": {},
   "outputs": [
    {
     "data": {
      "text/plain": [
       "<matplotlib.legend.Legend at 0x7f64277a6cc0>"
      ]
     },
     "execution_count": 5,
     "metadata": {},
     "output_type": "execute_result"
    },
    {
     "data": {
      "image/png": "[encoded data removed]",
      "text/plain": [
       "<Figure size 1152x576 with 2 Axes>"
      ]
     },
     "metadata": {},
     "output_type": "display_data"
    }
   ],
   "source": [
    "import matplotlib.pyplot as plt\n",
    "import cv2\n",
    "%matplotlib inline\n",
    "\n",
    "losses,val_losses ,acc,val_acc= history.losses,history.val_losses,history.acc,history.val_acc\n",
    "fig = plt.figure(figsize = (16,8))\n",
    "\n",
    "plt.subplot(211) \n",
    "\n",
    "plt.plot(losses,'g',label = 'train_losses')\n",
    "plt.plot(val_losses,'r',label = 'val_losses')\n",
    "plt.grid(True)\n",
    "plt.title('Training vs Validation ')\n",
    "plt.xlabel('Epochs')\n",
    "plt.ylabel('Loss')\n",
    "\n",
    "plt.legend()\n",
    "\n",
    "plt.subplot(212) \n",
    "\n",
    "plt.plot(acc,'b',label = 'train_acc')\n",
    "plt.plot(val_acc,'y',label = 'val_acc')\n",
    "plt.ylabel('Acc')\n",
    "plt.xlabel('Epochs')\n",
    "plt.grid(True)\n",
    "plt.legend()"
   ]
  },
  {
   "cell_type": "code",
   "execution_count": 6,
   "metadata": {
    "collapsed": true
   },
   "outputs": [],
   "source": [
    "import os\n",
    "\n",
    "#保存模型\n",
    "if not os.path.exists('models'):\n",
    "    os.mkdir('models')\n",
    "\n",
    "model_json_string = model.to_json()\n",
    "open(\"./models/model_string_ResNet50.json\",'w+').write(model_json_string)\n",
    "model.save_weights(\"./models/model_weights_ResNet50.h5\")"
   ]
  },
  {
   "cell_type": "markdown",
   "metadata": {},
   "source": [
    "# Check Point1"
   ]
  },
  {
   "cell_type": "code",
   "execution_count": 7,
   "metadata": {},
   "outputs": [
    {
     "name": "stdout",
     "output_type": "stream",
     "text": [
      "12500/12500 [==============================] - 0s 25us/step\n"
     ]
    }
   ],
   "source": [
    "from keras.applications.resnet50 import ResNet50\n",
    "from keras.models import Model,model_from_json\n",
    "from keras.layers import Dense,Input,GlobalAveragePooling2D,Dropout,Lambda\n",
    "import numpy as np\n",
    "\n",
    "import h5py\n",
    "\n",
    "#导入测试数据\n",
    "filename = 'gap_pred_resnet50.h5'\n",
    "with h5py.File(filename, 'r') as h:\n",
    "    X_test =np.array(h['test'])\n",
    "\n",
    "#导入模型\n",
    "model = model_from_json(open(\"./models/model_string_ResNet50.json\",'r').read())\n",
    "model.load_weights('./models/model_weights_ResNet50.h5')\n",
    "\n",
    "\n",
    "#模型预测，并对输出预测进行限值\n",
    "y_pred = model.predict(X_test, verbose=1)\n",
    "y_pred = y_pred.clip(min=0.005, max=0.995)\n"
   ]
  },
  {
   "cell_type": "code",
   "execution_count": 8,
   "metadata": {},
   "outputs": [
    {
     "name": "stdout",
     "output_type": "stream",
     "text": [
      "Found 12500 images belonging to 1 classes.\n"
     ]
    },
    {
     "name": "stderr",
     "output_type": "stream",
     "text": [
      "/home/ubuntu/anaconda3/envs/tensorflow_p36/lib/python3.6/site-packages/ipykernel/__main__.py:15: FutureWarning: set_value is deprecated and will be removed in a future release. Please use .at[] or .iat[] accessors instead\n"
     ]
    },
    {
     "data": {
      "text/html": [
       "<div>\n",
       "<style scoped>\n",
       "    .dataframe tbody tr th:only-of-type {\n",
       "        vertical-align: middle;\n",
       "    }\n",
       "\n",
       "    .dataframe tbody tr th {\n",
       "        vertical-align: top;\n",
       "    }\n",
       "\n",
       "    .dataframe thead th {\n",
       "        text-align: right;\n",
       "    }\n",
       "</style>\n",
       "<table border=\"1\" class=\"dataframe\">\n",
       "  <thead>\n",
       "    <tr style=\"text-align: right;\">\n",
       "      <th></th>\n",
       "      <th>id</th>\n",
       "      <th>label</th>\n",
       "    </tr>\n",
       "  </thead>\n",
       "  <tbody>\n",
       "    <tr>\n",
       "      <th>0</th>\n",
       "      <td>1</td>\n",
       "      <td>0.995</td>\n",
       "    </tr>\n",
       "    <tr>\n",
       "      <th>1</th>\n",
       "      <td>2</td>\n",
       "      <td>0.995</td>\n",
       "    </tr>\n",
       "    <tr>\n",
       "      <th>2</th>\n",
       "      <td>3</td>\n",
       "      <td>0.995</td>\n",
       "    </tr>\n",
       "    <tr>\n",
       "      <th>3</th>\n",
       "      <td>4</td>\n",
       "      <td>0.995</td>\n",
       "    </tr>\n",
       "    <tr>\n",
       "      <th>4</th>\n",
       "      <td>5</td>\n",
       "      <td>0.005</td>\n",
       "    </tr>\n",
       "    <tr>\n",
       "      <th>5</th>\n",
       "      <td>6</td>\n",
       "      <td>0.005</td>\n",
       "    </tr>\n",
       "    <tr>\n",
       "      <th>6</th>\n",
       "      <td>7</td>\n",
       "      <td>0.005</td>\n",
       "    </tr>\n",
       "    <tr>\n",
       "      <th>7</th>\n",
       "      <td>8</td>\n",
       "      <td>0.005</td>\n",
       "    </tr>\n",
       "    <tr>\n",
       "      <th>8</th>\n",
       "      <td>9</td>\n",
       "      <td>0.005</td>\n",
       "    </tr>\n",
       "    <tr>\n",
       "      <th>9</th>\n",
       "      <td>10</td>\n",
       "      <td>0.005</td>\n",
       "    </tr>\n",
       "  </tbody>\n",
       "</table>\n",
       "</div>"
      ],
      "text/plain": [
       "   id  label\n",
       "0   1  0.995\n",
       "1   2  0.995\n",
       "2   3  0.995\n",
       "3   4  0.995\n",
       "4   5  0.005\n",
       "5   6  0.005\n",
       "6   7  0.005\n",
       "7   8  0.005\n",
       "8   9  0.005\n",
       "9  10  0.005"
      ]
     },
     "execution_count": 8,
     "metadata": {},
     "output_type": "execute_result"
    }
   ],
   "source": [
    "import pandas as pd\n",
    "from keras.preprocessing.image import *\n",
    "\n",
    "df = pd.read_csv(\"sample_submission.csv\")\n",
    "\n",
    "#获取测试集文件的顺序，确保预处理predict和最终模型predict的顺序是一致的\n",
    "image_size = (224, 224)\n",
    "image_gen = ImageDataGenerator()\n",
    "test_gen  = image_gen.flow_from_directory(\"test_gen\",image_size, shuffle=False, batch_size=32, class_mode=None)\n",
    "\n",
    "#按照Kaggle的格式\n",
    "pred_filenames = test_gen.filenames\n",
    "for i, fname in enumerate(pred_filenames):\n",
    "    index = int(fname[fname.rfind('/')+1:fname.rfind('.')])\n",
    "    df.set_value(index-1, 'label', y_pred[i])\n",
    "\n",
    "\n",
    "df.to_csv('pred_base_model_ResNet50.csv', index=None)\n",
    "df.head(10)"
   ]
  },
  {
   "cell_type": "markdown",
   "metadata": {},
   "source": [
    "# Check Point2"
   ]
  },
  {
   "cell_type": "code",
   "execution_count": 16,
   "metadata": {
    "collapsed": true
   },
   "outputs": [],
   "source": [
    "import numpy as np\n",
    "import h5py\n",
    "\n",
    "X_train = []\n",
    "X_valid = []\n",
    "X_test = []\n",
    "\n",
    "#导入Xception模型的预训练权重\n",
    "model_name = [\"gap_pred_xception.h5\"]\n",
    "for filename in model_name:\n",
    "    with h5py.File(filename, 'r') as h:\n",
    "        X_train.append(np.array(h['train']))\n",
    "        X_valid.append(np.array(h['valid']))\n",
    "        X_test.append(np.array(h['test']))\n",
    "        y_train = np.array(h['train_label'])\n",
    "        y_valid = np.array(h['valid_label'])\n",
    "     \n",
    "        \n",
    "X_train = np.concatenate(X_train, axis=1)\n",
    "X_valid = np.concatenate(X_valid,axis = 1)\n",
    "X_test = np.concatenate(X_test, axis=1)\n"
   ]
  },
  {
   "cell_type": "code",
   "execution_count": 17,
   "metadata": {
    "collapsed": true
   },
   "outputs": [],
   "source": [
    "from keras.models import Model\n",
    "from keras.layers import Dense ,Dropout,Input\n",
    "\n",
    "#构建Top_model\n",
    "input_tensor = Input(X_train.shape[1:])\n",
    "layer = input_tensor\n",
    "layer = Dropout(0.5)(layer)\n",
    "layer = Dense(256,activation = 'relu')(layer)\n",
    "layer = Dropout(0.5)(layer)\n",
    "layer = Dense(1,activation = 'sigmoid')(layer)\n",
    "\n",
    "model = Model(input_tensor,layer)\n",
    "\n",
    "model.compile(optimizer = 'adadelta',\n",
    "             loss = 'binary_crossentropy',\n",
    "             metrics = ['accuracy'])"
   ]
  },
  {
   "cell_type": "code",
   "execution_count": 18,
   "metadata": {},
   "outputs": [
    {
     "name": "stdout",
     "output_type": "stream",
     "text": [
      "_________________________________________________________________\n",
      "Layer (type)                 Output Shape              Param #   \n",
      "=================================================================\n",
      "input_3 (InputLayer)         (None, 2048)              0         \n",
      "_________________________________________________________________\n",
      "dropout_3 (Dropout)          (None, 2048)              0         \n",
      "_________________________________________________________________\n",
      "dense_4 (Dense)              (None, 256)               524544    \n",
      "_________________________________________________________________\n",
      "dropout_4 (Dropout)          (None, 256)               0         \n",
      "_________________________________________________________________\n",
      "dense_5 (Dense)              (None, 1)                 257       \n",
      "=================================================================\n",
      "Total params: 524,801\n",
      "Trainable params: 524,801\n",
      "Non-trainable params: 0\n",
      "_________________________________________________________________\n"
     ]
    }
   ],
   "source": [
    "model.summary()"
   ]
  },
  {
   "cell_type": "code",
   "execution_count": 19,
   "metadata": {},
   "outputs": [
    {
     "data": {
      "image/svg+xml": [
       "<svg height=\"387pt\" viewBox=\"0.00 0.00 277.00 387.00\" width=\"277pt\" xmlns=\"http://www.w3.org/2000/svg\" xmlns:xlink=\"http://www.w3.org/1999/xlink\">\n",
       "<g class=\"graph\" id=\"graph0\" transform=\"scale(1 1) rotate(0) translate(4 383)\">\n",
       "<title>G</title>\n",
       "<polygon fill=\"#ffffff\" points=\"-4,4 -4,-383 273,-383 273,4 -4,4\" stroke=\"transparent\"/>\n",
       "<!-- 140070096074008 -->\n",
       "<g class=\"node\" id=\"node1\">\n",
       "<title>140070096074008</title>\n",
       "<polygon fill=\"none\" points=\"0,-332.5 0,-378.5 269,-378.5 269,-332.5 0,-332.5\" stroke=\"#000000\"/>\n",
       "<text fill=\"#000000\" font-family=\"Times,serif\" font-size=\"14.00\" text-anchor=\"middle\" x=\"62.5\" y=\"-351.8\">input_3: InputLayer</text>\n",
       "<polyline fill=\"none\" points=\"125,-332.5 125,-378.5 \" stroke=\"#000000\"/>\n",
       "<text fill=\"#000000\" font-family=\"Times,serif\" font-size=\"14.00\" text-anchor=\"middle\" x=\"152.5\" y=\"-363.3\">input:</text>\n",
       "<polyline fill=\"none\" points=\"125,-355.5 180,-355.5 \" stroke=\"#000000\"/>\n",
       "<text fill=\"#000000\" font-family=\"Times,serif\" font-size=\"14.00\" text-anchor=\"middle\" x=\"152.5\" y=\"-340.3\">output:</text>\n",
       "<polyline fill=\"none\" points=\"180,-332.5 180,-378.5 \" stroke=\"#000000\"/>\n",
       "<text fill=\"#000000\" font-family=\"Times,serif\" font-size=\"14.00\" text-anchor=\"middle\" x=\"224.5\" y=\"-363.3\">(None, 2048)</text>\n",
       "<polyline fill=\"none\" points=\"180,-355.5 269,-355.5 \" stroke=\"#000000\"/>\n",
       "<text fill=\"#000000\" font-family=\"Times,serif\" font-size=\"14.00\" text-anchor=\"middle\" x=\"224.5\" y=\"-340.3\">(None, 2048)</text>\n",
       "</g>\n",
       "<!-- 140070096075352 -->\n",
       "<g class=\"node\" id=\"node2\">\n",
       "<title>140070096075352</title>\n",
       "<polygon fill=\"none\" points=\"0,-249.5 0,-295.5 269,-295.5 269,-249.5 0,-249.5\" stroke=\"#000000\"/>\n",
       "<text fill=\"#000000\" font-family=\"Times,serif\" font-size=\"14.00\" text-anchor=\"middle\" x=\"62.5\" y=\"-268.8\">dropout_3: Dropout</text>\n",
       "<polyline fill=\"none\" points=\"125,-249.5 125,-295.5 \" stroke=\"#000000\"/>\n",
       "<text fill=\"#000000\" font-family=\"Times,serif\" font-size=\"14.00\" text-anchor=\"middle\" x=\"152.5\" y=\"-280.3\">input:</text>\n",
       "<polyline fill=\"none\" points=\"125,-272.5 180,-272.5 \" stroke=\"#000000\"/>\n",
       "<text fill=\"#000000\" font-family=\"Times,serif\" font-size=\"14.00\" text-anchor=\"middle\" x=\"152.5\" y=\"-257.3\">output:</text>\n",
       "<polyline fill=\"none\" points=\"180,-249.5 180,-295.5 \" stroke=\"#000000\"/>\n",
       "<text fill=\"#000000\" font-family=\"Times,serif\" font-size=\"14.00\" text-anchor=\"middle\" x=\"224.5\" y=\"-280.3\">(None, 2048)</text>\n",
       "<polyline fill=\"none\" points=\"180,-272.5 269,-272.5 \" stroke=\"#000000\"/>\n",
       "<text fill=\"#000000\" font-family=\"Times,serif\" font-size=\"14.00\" text-anchor=\"middle\" x=\"224.5\" y=\"-257.3\">(None, 2048)</text>\n",
       "</g>\n",
       "<!-- 140070096074008&#45;&gt;140070096075352 -->\n",
       "<g class=\"edge\" id=\"edge1\">\n",
       "<title>140070096074008-&gt;140070096075352</title>\n",
       "<path d=\"M134.5,-332.3799C134.5,-324.1745 134.5,-314.7679 134.5,-305.8786\" fill=\"none\" stroke=\"#000000\"/>\n",
       "<polygon fill=\"#000000\" points=\"138.0001,-305.784 134.5,-295.784 131.0001,-305.784 138.0001,-305.784\" stroke=\"#000000\"/>\n",
       "</g>\n",
       "<!-- 140070096075464 -->\n",
       "<g class=\"node\" id=\"node3\">\n",
       "<title>140070096075464</title>\n",
       "<polygon fill=\"none\" points=\"11.5,-166.5 11.5,-212.5 257.5,-212.5 257.5,-166.5 11.5,-166.5\" stroke=\"#000000\"/>\n",
       "<text fill=\"#000000\" font-family=\"Times,serif\" font-size=\"14.00\" text-anchor=\"middle\" x=\"62.5\" y=\"-185.8\">dense_4: Dense</text>\n",
       "<polyline fill=\"none\" points=\"113.5,-166.5 113.5,-212.5 \" stroke=\"#000000\"/>\n",
       "<text fill=\"#000000\" font-family=\"Times,serif\" font-size=\"14.00\" text-anchor=\"middle\" x=\"141\" y=\"-197.3\">input:</text>\n",
       "<polyline fill=\"none\" points=\"113.5,-189.5 168.5,-189.5 \" stroke=\"#000000\"/>\n",
       "<text fill=\"#000000\" font-family=\"Times,serif\" font-size=\"14.00\" text-anchor=\"middle\" x=\"141\" y=\"-174.3\">output:</text>\n",
       "<polyline fill=\"none\" points=\"168.5,-166.5 168.5,-212.5 \" stroke=\"#000000\"/>\n",
       "<text fill=\"#000000\" font-family=\"Times,serif\" font-size=\"14.00\" text-anchor=\"middle\" x=\"213\" y=\"-197.3\">(None, 2048)</text>\n",
       "<polyline fill=\"none\" points=\"168.5,-189.5 257.5,-189.5 \" stroke=\"#000000\"/>\n",
       "<text fill=\"#000000\" font-family=\"Times,serif\" font-size=\"14.00\" text-anchor=\"middle\" x=\"213\" y=\"-174.3\">(None, 256)</text>\n",
       "</g>\n",
       "<!-- 140070096075352&#45;&gt;140070096075464 -->\n",
       "<g class=\"edge\" id=\"edge2\">\n",
       "<title>140070096075352-&gt;140070096075464</title>\n",
       "<path d=\"M134.5,-249.3799C134.5,-241.1745 134.5,-231.7679 134.5,-222.8786\" fill=\"none\" stroke=\"#000000\"/>\n",
       "<polygon fill=\"#000000\" points=\"138.0001,-222.784 134.5,-212.784 131.0001,-222.784 138.0001,-222.784\" stroke=\"#000000\"/>\n",
       "</g>\n",
       "<!-- 140070096296816 -->\n",
       "<g class=\"node\" id=\"node4\">\n",
       "<title>140070096296816</title>\n",
       "<polygon fill=\"none\" points=\"3,-83.5 3,-129.5 266,-129.5 266,-83.5 3,-83.5\" stroke=\"#000000\"/>\n",
       "<text fill=\"#000000\" font-family=\"Times,serif\" font-size=\"14.00\" text-anchor=\"middle\" x=\"65.5\" y=\"-102.8\">dropout_4: Dropout</text>\n",
       "<polyline fill=\"none\" points=\"128,-83.5 128,-129.5 \" stroke=\"#000000\"/>\n",
       "<text fill=\"#000000\" font-family=\"Times,serif\" font-size=\"14.00\" text-anchor=\"middle\" x=\"155.5\" y=\"-114.3\">input:</text>\n",
       "<polyline fill=\"none\" points=\"128,-106.5 183,-106.5 \" stroke=\"#000000\"/>\n",
       "<text fill=\"#000000\" font-family=\"Times,serif\" font-size=\"14.00\" text-anchor=\"middle\" x=\"155.5\" y=\"-91.3\">output:</text>\n",
       "<polyline fill=\"none\" points=\"183,-83.5 183,-129.5 \" stroke=\"#000000\"/>\n",
       "<text fill=\"#000000\" font-family=\"Times,serif\" font-size=\"14.00\" text-anchor=\"middle\" x=\"224.5\" y=\"-114.3\">(None, 256)</text>\n",
       "<polyline fill=\"none\" points=\"183,-106.5 266,-106.5 \" stroke=\"#000000\"/>\n",
       "<text fill=\"#000000\" font-family=\"Times,serif\" font-size=\"14.00\" text-anchor=\"middle\" x=\"224.5\" y=\"-91.3\">(None, 256)</text>\n",
       "</g>\n",
       "<!-- 140070096075464&#45;&gt;140070096296816 -->\n",
       "<g class=\"edge\" id=\"edge3\">\n",
       "<title>140070096075464-&gt;140070096296816</title>\n",
       "<path d=\"M134.5,-166.3799C134.5,-158.1745 134.5,-148.7679 134.5,-139.8786\" fill=\"none\" stroke=\"#000000\"/>\n",
       "<polygon fill=\"#000000\" points=\"138.0001,-139.784 134.5,-129.784 131.0001,-139.784 138.0001,-139.784\" stroke=\"#000000\"/>\n",
       "</g>\n",
       "<!-- 140070097215672 -->\n",
       "<g class=\"node\" id=\"node5\">\n",
       "<title>140070097215672</title>\n",
       "<polygon fill=\"none\" points=\"14.5,-.5 14.5,-46.5 254.5,-46.5 254.5,-.5 14.5,-.5\" stroke=\"#000000\"/>\n",
       "<text fill=\"#000000\" font-family=\"Times,serif\" font-size=\"14.00\" text-anchor=\"middle\" x=\"65.5\" y=\"-19.8\">dense_5: Dense</text>\n",
       "<polyline fill=\"none\" points=\"116.5,-.5 116.5,-46.5 \" stroke=\"#000000\"/>\n",
       "<text fill=\"#000000\" font-family=\"Times,serif\" font-size=\"14.00\" text-anchor=\"middle\" x=\"144\" y=\"-31.3\">input:</text>\n",
       "<polyline fill=\"none\" points=\"116.5,-23.5 171.5,-23.5 \" stroke=\"#000000\"/>\n",
       "<text fill=\"#000000\" font-family=\"Times,serif\" font-size=\"14.00\" text-anchor=\"middle\" x=\"144\" y=\"-8.3\">output:</text>\n",
       "<polyline fill=\"none\" points=\"171.5,-.5 171.5,-46.5 \" stroke=\"#000000\"/>\n",
       "<text fill=\"#000000\" font-family=\"Times,serif\" font-size=\"14.00\" text-anchor=\"middle\" x=\"213\" y=\"-31.3\">(None, 256)</text>\n",
       "<polyline fill=\"none\" points=\"171.5,-23.5 254.5,-23.5 \" stroke=\"#000000\"/>\n",
       "<text fill=\"#000000\" font-family=\"Times,serif\" font-size=\"14.00\" text-anchor=\"middle\" x=\"213\" y=\"-8.3\">(None, 1)</text>\n",
       "</g>\n",
       "<!-- 140070096296816&#45;&gt;140070097215672 -->\n",
       "<g class=\"edge\" id=\"edge4\">\n",
       "<title>140070096296816-&gt;140070097215672</title>\n",
       "<path d=\"M134.5,-83.3799C134.5,-75.1745 134.5,-65.7679 134.5,-56.8786\" fill=\"none\" stroke=\"#000000\"/>\n",
       "<polygon fill=\"#000000\" points=\"138.0001,-56.784 134.5,-46.784 131.0001,-56.784 138.0001,-56.784\" stroke=\"#000000\"/>\n",
       "</g>\n",
       "</g>\n",
       "</svg>"
      ],
      "text/plain": [
       "<IPython.core.display.SVG object>"
      ]
     },
     "execution_count": 19,
     "metadata": {},
     "output_type": "execute_result"
    }
   ],
   "source": [
    "from IPython.display import SVG\n",
    "from keras.utils.vis_utils import model_to_dot\n",
    "\n",
    "SVG(model_to_dot(model,show_shapes = True).create(prog='dot', format='svg'))"
   ]
  },
  {
   "cell_type": "code",
   "execution_count": 20,
   "metadata": {},
   "outputs": [
    {
     "name": "stdout",
     "output_type": "stream",
     "text": [
      "Train on 20000 samples, validate on 5000 samples\n",
      "Epoch 1/50\n",
      "20000/20000 [==============================] - 1s 45us/step - loss: 0.0503 - acc: 0.9856 - val_loss: 0.0188 - val_acc: 0.9934\n",
      "Epoch 2/50\n",
      "20000/20000 [==============================] - 1s 33us/step - loss: 0.0241 - acc: 0.9932 - val_loss: 0.0188 - val_acc: 0.9932\n",
      "Epoch 3/50\n",
      "20000/20000 [==============================] - 1s 33us/step - loss: 0.0219 - acc: 0.9937 - val_loss: 0.0172 - val_acc: 0.9942\n",
      "Epoch 4/50\n",
      "20000/20000 [==============================] - 1s 33us/step - loss: 0.0193 - acc: 0.9937 - val_loss: 0.0183 - val_acc: 0.9942\n",
      "Epoch 5/50\n",
      "20000/20000 [==============================] - 1s 33us/step - loss: 0.0186 - acc: 0.9948 - val_loss: 0.0180 - val_acc: 0.9946\n",
      "Epoch 6/50\n",
      "20000/20000 [==============================] - 1s 33us/step - loss: 0.0176 - acc: 0.9948 - val_loss: 0.0263 - val_acc: 0.9924\n",
      "Epoch 7/50\n",
      "20000/20000 [==============================] - 1s 33us/step - loss: 0.0172 - acc: 0.9949 - val_loss: 0.0173 - val_acc: 0.9944\n",
      "Epoch 8/50\n",
      "20000/20000 [==============================] - 1s 33us/step - loss: 0.0161 - acc: 0.9950 - val_loss: 0.0181 - val_acc: 0.9942\n",
      "Epoch 9/50\n",
      "20000/20000 [==============================] - 1s 33us/step - loss: 0.0157 - acc: 0.9950 - val_loss: 0.0183 - val_acc: 0.9942\n",
      "Epoch 10/50\n",
      "20000/20000 [==============================] - 1s 33us/step - loss: 0.0160 - acc: 0.9951 - val_loss: 0.0188 - val_acc: 0.9942\n",
      "Epoch 11/50\n",
      "20000/20000 [==============================] - 1s 33us/step - loss: 0.0149 - acc: 0.9958 - val_loss: 0.0184 - val_acc: 0.9938\n",
      "Epoch 12/50\n",
      "20000/20000 [==============================] - 1s 33us/step - loss: 0.0149 - acc: 0.9956 - val_loss: 0.0186 - val_acc: 0.9940\n",
      "Epoch 13/50\n",
      "20000/20000 [==============================] - 1s 33us/step - loss: 0.0136 - acc: 0.9959 - val_loss: 0.0180 - val_acc: 0.9944\n",
      "Epoch 14/50\n",
      "20000/20000 [==============================] - 1s 33us/step - loss: 0.0133 - acc: 0.9961 - val_loss: 0.0185 - val_acc: 0.9942\n",
      "Epoch 15/50\n",
      "20000/20000 [==============================] - 1s 33us/step - loss: 0.0139 - acc: 0.9957 - val_loss: 0.0215 - val_acc: 0.9938\n",
      "Epoch 00015: early stopping\n"
     ]
    },
    {
     "data": {
      "text/plain": [
       "<keras.callbacks.History at 0x7f649c9accc0>"
      ]
     },
     "execution_count": 20,
     "metadata": {},
     "output_type": "execute_result"
    }
   ],
   "source": [
    "from keras.callbacks import Callback,EarlyStopping\n",
    "\n",
    "\n",
    "class LossHistory(Callback):\n",
    "    def on_train_begin(self,log={}):\n",
    "        self.losses = []\n",
    "        self.val_losses = []\n",
    "        self.acc = []\n",
    "        self.val_acc = []\n",
    "    def on_epoch_end(self,batch,logs={}):\n",
    "        self.losses.append(logs.get('loss'))\n",
    "        self.val_losses.append(logs.get('val_loss'))\n",
    "        self.acc.append(logs.get('acc'))\n",
    "        self.val_acc.append(logs.get('val_acc'))\n",
    "\n",
    "history = LossHistory()\n",
    "\n",
    "earlystop = EarlyStopping(monitor='val_acc',patience =10,verbose=1,mode = 'max')\n",
    "\n",
    "valid_data = (X_valid,y_valid)\n",
    "\n",
    "model.fit(X_train, y_train, batch_size=128, epochs=50,validation_data=valid_data,callbacks = [history,earlystop])"
   ]
  },
  {
   "cell_type": "code",
   "execution_count": 21,
   "metadata": {},
   "outputs": [
    {
     "data": {
      "text/plain": [
       "<matplotlib.legend.Legend at 0x7f649b249438>"
      ]
     },
     "execution_count": 21,
     "metadata": {},
     "output_type": "execute_result"
    },
    {
     "data": {
      "image/png": "[encoded data removed]",
      "text/plain": [
       "<Figure size 1152x576 with 2 Axes>"
      ]
     },
     "metadata": {},
     "output_type": "display_data"
    }
   ],
   "source": [
    "import matplotlib.pyplot as plt\n",
    "import cv2\n",
    "%matplotlib inline\n",
    "\n",
    "losses,val_losses ,acc,val_acc= history.losses,history.val_losses,history.acc,history.val_acc\n",
    "fig = plt.figure(figsize = (16,8))\n",
    "\n",
    "plt.subplot(211) \n",
    "\n",
    "plt.plot(losses,'g',label = 'train_losses')\n",
    "plt.plot(val_losses,'r',label = 'val_losses')\n",
    "plt.grid(True)\n",
    "plt.title('Training vs Validation ')\n",
    "plt.xlabel('Epochs')\n",
    "plt.ylabel('Loss')\n",
    "\n",
    "plt.legend(loc=0)\n",
    "\n",
    "plt.subplot(212) \n",
    "\n",
    "plt.plot(acc,'b',label = 'train_acc')\n",
    "plt.plot(val_acc,'y',label = 'val_acc')\n",
    "plt.ylabel('Acc')\n",
    "plt.xlabel('Epochs')\n",
    "plt.grid(True)\n",
    "plt.legend(loc=0)"
   ]
  },
  {
   "cell_type": "code",
   "execution_count": 22,
   "metadata": {},
   "outputs": [
    {
     "name": "stdout",
     "output_type": "stream",
     "text": [
      "Found 12500 images belonging to 1 classes.\n",
      "12500/12500 [==============================] - 0s 36us/step\n"
     ]
    },
    {
     "name": "stderr",
     "output_type": "stream",
     "text": [
      "/home/ubuntu/anaconda3/envs/tensorflow_p36/lib/python3.6/site-packages/ipykernel/__main__.py:23: FutureWarning: set_value is deprecated and will be removed in a future release. Please use .at[] or .iat[] accessors instead\n"
     ]
    },
    {
     "data": {
      "text/html": [
       "<div>\n",
       "<style scoped>\n",
       "    .dataframe tbody tr th:only-of-type {\n",
       "        vertical-align: middle;\n",
       "    }\n",
       "\n",
       "    .dataframe tbody tr th {\n",
       "        vertical-align: top;\n",
       "    }\n",
       "\n",
       "    .dataframe thead th {\n",
       "        text-align: right;\n",
       "    }\n",
       "</style>\n",
       "<table border=\"1\" class=\"dataframe\">\n",
       "  <thead>\n",
       "    <tr style=\"text-align: right;\">\n",
       "      <th></th>\n",
       "      <th>id</th>\n",
       "      <th>label</th>\n",
       "    </tr>\n",
       "  </thead>\n",
       "  <tbody>\n",
       "    <tr>\n",
       "      <th>0</th>\n",
       "      <td>1</td>\n",
       "      <td>0.995</td>\n",
       "    </tr>\n",
       "    <tr>\n",
       "      <th>1</th>\n",
       "      <td>2</td>\n",
       "      <td>0.995</td>\n",
       "    </tr>\n",
       "    <tr>\n",
       "      <th>2</th>\n",
       "      <td>3</td>\n",
       "      <td>0.995</td>\n",
       "    </tr>\n",
       "    <tr>\n",
       "      <th>3</th>\n",
       "      <td>4</td>\n",
       "      <td>0.995</td>\n",
       "    </tr>\n",
       "    <tr>\n",
       "      <th>4</th>\n",
       "      <td>5</td>\n",
       "      <td>0.005</td>\n",
       "    </tr>\n",
       "    <tr>\n",
       "      <th>5</th>\n",
       "      <td>6</td>\n",
       "      <td>0.005</td>\n",
       "    </tr>\n",
       "    <tr>\n",
       "      <th>6</th>\n",
       "      <td>7</td>\n",
       "      <td>0.005</td>\n",
       "    </tr>\n",
       "    <tr>\n",
       "      <th>7</th>\n",
       "      <td>8</td>\n",
       "      <td>0.005</td>\n",
       "    </tr>\n",
       "    <tr>\n",
       "      <th>8</th>\n",
       "      <td>9</td>\n",
       "      <td>0.005</td>\n",
       "    </tr>\n",
       "    <tr>\n",
       "      <th>9</th>\n",
       "      <td>10</td>\n",
       "      <td>0.005</td>\n",
       "    </tr>\n",
       "  </tbody>\n",
       "</table>\n",
       "</div>"
      ],
      "text/plain": [
       "   id  label\n",
       "0   1  0.995\n",
       "1   2  0.995\n",
       "2   3  0.995\n",
       "3   4  0.995\n",
       "4   5  0.005\n",
       "5   6  0.005\n",
       "6   7  0.005\n",
       "7   8  0.005\n",
       "8   9  0.005\n",
       "9  10  0.005"
      ]
     },
     "execution_count": 22,
     "metadata": {},
     "output_type": "execute_result"
    }
   ],
   "source": [
    "import pandas as pd\n",
    "from keras.preprocessing.image import ImageDataGenerator\n",
    "\n",
    "import os\n",
    "\n",
    "df = pd.read_csv(\"sample_submission.csv\")\n",
    "\n",
    "image_size = (299, 299)\n",
    "image_gen = ImageDataGenerator()\n",
    "test_gen  = image_gen.flow_from_directory(\"test_gen\",image_size, shuffle=False, batch_size=16, class_mode=None)\n",
    "\n",
    "#y_pred = model.predict_generator(test_gen,verbose = 1)\n",
    "y_pred = model.predict(X_test,verbose = 1)\n",
    "y_pred = y_pred.clip(min=0.005, max=0.995)\n",
    "\n",
    "\n",
    "pred_filenames = test_gen.filenames\n",
    "\n",
    "#pred_filenames = os.listdir('test_gen/test')\n",
    "\n",
    "for i, fname in enumerate(pred_filenames):\n",
    "    index = int(fname[fname.rfind('/')+1:fname.rfind('.')])\n",
    "    df.set_value(index-1, 'label', y_pred[i])\n",
    "\n",
    "\n",
    "df.to_csv('pred_gap.csv', index=None)\n",
    "df.head(10)"
   ]
  },
  {
   "cell_type": "code",
   "execution_count": 23,
   "metadata": {
    "collapsed": true
   },
   "outputs": [],
   "source": [
    "import os\n",
    "\n",
    "if not os.path.exists('models'):\n",
    "    os.mkdir('models')\n",
    "\n",
    "model_json_string = model.to_json()\n",
    "open(\"./models/model_string_xception_top.json\",'w+').write(model_json_string)\n",
    "model.save_weights(\"./models/model_weights_xception_top.h5\")"
   ]
  },
  {
   "cell_type": "markdown",
   "metadata": {},
   "source": [
    "# Check point3"
   ]
  },
  {
   "cell_type": "code",
   "execution_count": 24,
   "metadata": {
    "collapsed": true
   },
   "outputs": [],
   "source": [
    "from keras.models import Model,Sequential,model_from_json\n",
    "from keras.layers import Dense,Dropout,GlobalAveragePooling2D,Input,Lambda\n",
    "from keras.applications.xception import Xception,preprocess_input\n",
    "from keras.applications.resnet50 import ResNet50\n",
    "from keras.applications.inception_v3 import InceptionV3\n",
    "from keras.preprocessing.image import ImageDataGenerator\n",
    "\n",
    "#Xception模型输入数据预处理\n",
    "x = Input((299,299,3))\n",
    "x = Lambda(preprocess_input)(x)\n",
    "\n",
    "image_size = (299,299)\n",
    "\n",
    "#导入预训练Xception模型，并采用GlobalAveragePooling2D池化\n",
    "base_model = Xception(input_tensor = x,weights = 'imagenet',include_top = False,pooling = 'avg')\n",
    "\n",
    "#搭建top_model层\n",
    "input_tensor = Input(base_model.output_shape[1:])\n",
    "\n",
    "layer = Dropout(0.5)(input_tensor)\n",
    "layer = Dense(256,activation = 'relu')(layer)\n",
    "layer = Dropout(0.5)(layer)\n",
    "layer = Dense(1,activation = 'sigmoid')(layer)\n",
    "\n",
    "top_model = Model(input_tensor,layer)\n",
    "\n",
    "#导入top_model预训练权重\n",
    "top_model.load_weights('./models/model_weights_xception_top.h5')"
   ]
  },
  {
   "cell_type": "code",
   "execution_count": 25,
   "metadata": {},
   "outputs": [
    {
     "name": "stdout",
     "output_type": "stream",
     "text": [
      "0 input_4\n",
      "1 lambda_1\n",
      "2 block1_conv1\n",
      "3 block1_conv1_bn\n",
      "4 block1_conv1_act\n",
      "5 block1_conv2\n",
      "6 block1_conv2_bn\n",
      "7 block1_conv2_act\n",
      "8 block2_sepconv1\n",
      "9 block2_sepconv1_bn\n",
      "10 block2_sepconv2_act\n",
      "11 block2_sepconv2\n",
      "12 block2_sepconv2_bn\n",
      "13 conv2d_1\n",
      "14 block2_pool\n",
      "15 batch_normalization_1\n",
      "16 add_1\n",
      "17 block3_sepconv1_act\n",
      "18 block3_sepconv1\n",
      "19 block3_sepconv1_bn\n",
      "20 block3_sepconv2_act\n",
      "21 block3_sepconv2\n",
      "22 block3_sepconv2_bn\n",
      "23 conv2d_2\n",
      "24 block3_pool\n",
      "25 batch_normalization_2\n",
      "26 add_2\n",
      "27 block4_sepconv1_act\n",
      "28 block4_sepconv1\n",
      "29 block4_sepconv1_bn\n",
      "30 block4_sepconv2_act\n",
      "31 block4_sepconv2\n",
      "32 block4_sepconv2_bn\n",
      "33 conv2d_3\n",
      "34 block4_pool\n",
      "35 batch_normalization_3\n",
      "36 add_3\n",
      "37 block5_sepconv1_act\n",
      "38 block5_sepconv1\n",
      "39 block5_sepconv1_bn\n",
      "40 block5_sepconv2_act\n",
      "41 block5_sepconv2\n",
      "42 block5_sepconv2_bn\n",
      "43 block5_sepconv3_act\n",
      "44 block5_sepconv3\n",
      "45 block5_sepconv3_bn\n",
      "46 add_4\n",
      "47 block6_sepconv1_act\n",
      "48 block6_sepconv1\n",
      "49 block6_sepconv1_bn\n",
      "50 block6_sepconv2_act\n",
      "51 block6_sepconv2\n",
      "52 block6_sepconv2_bn\n",
      "53 block6_sepconv3_act\n",
      "54 block6_sepconv3\n",
      "55 block6_sepconv3_bn\n",
      "56 add_5\n",
      "57 block7_sepconv1_act\n",
      "58 block7_sepconv1\n",
      "59 block7_sepconv1_bn\n",
      "60 block7_sepconv2_act\n",
      "61 block7_sepconv2\n",
      "62 block7_sepconv2_bn\n",
      "63 block7_sepconv3_act\n",
      "64 block7_sepconv3\n",
      "65 block7_sepconv3_bn\n",
      "66 add_6\n",
      "67 block8_sepconv1_act\n",
      "68 block8_sepconv1\n",
      "69 block8_sepconv1_bn\n",
      "70 block8_sepconv2_act\n",
      "71 block8_sepconv2\n",
      "72 block8_sepconv2_bn\n",
      "73 block8_sepconv3_act\n",
      "74 block8_sepconv3\n",
      "75 block8_sepconv3_bn\n",
      "76 add_7\n",
      "77 block9_sepconv1_act\n",
      "78 block9_sepconv1\n",
      "79 block9_sepconv1_bn\n",
      "80 block9_sepconv2_act\n",
      "81 block9_sepconv2\n",
      "82 block9_sepconv2_bn\n",
      "83 block9_sepconv3_act\n",
      "84 block9_sepconv3\n",
      "85 block9_sepconv3_bn\n",
      "86 add_8\n",
      "87 block10_sepconv1_act\n",
      "88 block10_sepconv1\n",
      "89 block10_sepconv1_bn\n",
      "90 block10_sepconv2_act\n",
      "91 block10_sepconv2\n",
      "92 block10_sepconv2_bn\n",
      "93 block10_sepconv3_act\n",
      "94 block10_sepconv3\n",
      "95 block10_sepconv3_bn\n",
      "96 add_9\n",
      "97 block11_sepconv1_act\n",
      "98 block11_sepconv1\n",
      "99 block11_sepconv1_bn\n",
      "100 block11_sepconv2_act\n",
      "101 block11_sepconv2\n",
      "102 block11_sepconv2_bn\n",
      "103 block11_sepconv3_act\n",
      "104 block11_sepconv3\n",
      "105 block11_sepconv3_bn\n",
      "106 add_10\n",
      "107 block12_sepconv1_act\n",
      "108 block12_sepconv1\n",
      "109 block12_sepconv1_bn\n",
      "110 block12_sepconv2_act\n",
      "111 block12_sepconv2\n",
      "112 block12_sepconv2_bn\n",
      "113 block12_sepconv3_act\n",
      "114 block12_sepconv3\n",
      "115 block12_sepconv3_bn\n",
      "116 add_11\n",
      "117 block13_sepconv1_act\n",
      "118 block13_sepconv1\n",
      "119 block13_sepconv1_bn\n",
      "120 block13_sepconv2_act\n",
      "121 block13_sepconv2\n",
      "122 block13_sepconv2_bn\n",
      "123 conv2d_4\n",
      "124 block13_pool\n",
      "125 batch_normalization_4\n",
      "126 add_12\n",
      "127 block14_sepconv1\n",
      "128 block14_sepconv1_bn\n",
      "129 block14_sepconv1_act\n",
      "130 block14_sepconv2\n",
      "131 block14_sepconv2_bn\n",
      "132 block14_sepconv2_act\n",
      "133 global_average_pooling2d_1\n"
     ]
    }
   ],
   "source": [
    "for i, layer in enumerate(base_model.layers):\n",
    "    print (i,layer.name)"
   ]
  },
  {
   "cell_type": "code",
   "execution_count": 26,
   "metadata": {
    "collapsed": true
   },
   "outputs": [],
   "source": [
    "from keras.optimizers import SGD\n",
    "\n",
    "#冻结Xception模型的部分参数\n",
    "for layer in base_model.layers[:125]:\n",
    "    layer.trainable = False\n",
    "for layer in base_model.layers[125:]:\n",
    "    layer.trainable = True\n",
    "\n",
    "model = Sequential()\n",
    "model.add(base_model)\n",
    "model.add(top_model)\n",
    "\n",
    "#采用SGD方法进行优化\n",
    "model.compile(optimizer = SGD(lr = 0.0001,momentum = 0.9),loss = 'binary_crossentropy',metrics = ['accuracy'])"
   ]
  },
  {
   "cell_type": "code",
   "execution_count": 27,
   "metadata": {},
   "outputs": [
    {
     "data": {
      "image/svg+xml": [
       "<svg height=\"221pt\" viewBox=\"0.00 0.00 353.00 221.00\" width=\"353pt\" xmlns=\"http://www.w3.org/2000/svg\" xmlns:xlink=\"http://www.w3.org/1999/xlink\">\n",
       "<g class=\"graph\" id=\"graph0\" transform=\"scale(1 1) rotate(0) translate(4 217)\">\n",
       "<title>G</title>\n",
       "<polygon fill=\"#ffffff\" points=\"-4,4 -4,-217 349,-217 349,4 -4,4\" stroke=\"transparent\"/>\n",
       "<!-- 140070080250992 -->\n",
       "<g class=\"node\" id=\"node1\">\n",
       "<title>140070080250992</title>\n",
       "<polygon fill=\"none\" points=\"0,-166.5 0,-212.5 345,-212.5 345,-166.5 0,-166.5\" stroke=\"#000000\"/>\n",
       "<text fill=\"#000000\" font-family=\"Times,serif\" font-size=\"14.00\" text-anchor=\"middle\" x=\"82.5\" y=\"-185.8\">xception_input: InputLayer</text>\n",
       "<polyline fill=\"none\" points=\"165,-166.5 165,-212.5 \" stroke=\"#000000\"/>\n",
       "<text fill=\"#000000\" font-family=\"Times,serif\" font-size=\"14.00\" text-anchor=\"middle\" x=\"192.5\" y=\"-197.3\">input:</text>\n",
       "<polyline fill=\"none\" points=\"165,-189.5 220,-189.5 \" stroke=\"#000000\"/>\n",
       "<text fill=\"#000000\" font-family=\"Times,serif\" font-size=\"14.00\" text-anchor=\"middle\" x=\"192.5\" y=\"-174.3\">output:</text>\n",
       "<polyline fill=\"none\" points=\"220,-166.5 220,-212.5 \" stroke=\"#000000\"/>\n",
       "<text fill=\"#000000\" font-family=\"Times,serif\" font-size=\"14.00\" text-anchor=\"middle\" x=\"282.5\" y=\"-197.3\">(None, 299, 299, 3)</text>\n",
       "<polyline fill=\"none\" points=\"220,-189.5 345,-189.5 \" stroke=\"#000000\"/>\n",
       "<text fill=\"#000000\" font-family=\"Times,serif\" font-size=\"14.00\" text-anchor=\"middle\" x=\"282.5\" y=\"-174.3\">(None, 299, 299, 3)</text>\n",
       "</g>\n",
       "<!-- 140069574332656 -->\n",
       "<g class=\"node\" id=\"node2\">\n",
       "<title>140069574332656</title>\n",
       "<polygon fill=\"none\" points=\"29,-83.5 29,-129.5 316,-129.5 316,-83.5 29,-83.5\" stroke=\"#000000\"/>\n",
       "<text fill=\"#000000\" font-family=\"Times,serif\" font-size=\"14.00\" text-anchor=\"middle\" x=\"82.5\" y=\"-102.8\">xception: Model</text>\n",
       "<polyline fill=\"none\" points=\"136,-83.5 136,-129.5 \" stroke=\"#000000\"/>\n",
       "<text fill=\"#000000\" font-family=\"Times,serif\" font-size=\"14.00\" text-anchor=\"middle\" x=\"163.5\" y=\"-114.3\">input:</text>\n",
       "<polyline fill=\"none\" points=\"136,-106.5 191,-106.5 \" stroke=\"#000000\"/>\n",
       "<text fill=\"#000000\" font-family=\"Times,serif\" font-size=\"14.00\" text-anchor=\"middle\" x=\"163.5\" y=\"-91.3\">output:</text>\n",
       "<polyline fill=\"none\" points=\"191,-83.5 191,-129.5 \" stroke=\"#000000\"/>\n",
       "<text fill=\"#000000\" font-family=\"Times,serif\" font-size=\"14.00\" text-anchor=\"middle\" x=\"253.5\" y=\"-114.3\">(None, 299, 299, 3)</text>\n",
       "<polyline fill=\"none\" points=\"191,-106.5 316,-106.5 \" stroke=\"#000000\"/>\n",
       "<text fill=\"#000000\" font-family=\"Times,serif\" font-size=\"14.00\" text-anchor=\"middle\" x=\"253.5\" y=\"-91.3\">(None, 2048)</text>\n",
       "</g>\n",
       "<!-- 140070080250992&#45;&gt;140069574332656 -->\n",
       "<g class=\"edge\" id=\"edge1\">\n",
       "<title>140070080250992-&gt;140069574332656</title>\n",
       "<path d=\"M172.5,-166.3799C172.5,-158.1745 172.5,-148.7679 172.5,-139.8786\" fill=\"none\" stroke=\"#000000\"/>\n",
       "<polygon fill=\"#000000\" points=\"176.0001,-139.784 172.5,-129.784 169.0001,-139.784 176.0001,-139.784\" stroke=\"#000000\"/>\n",
       "</g>\n",
       "<!-- 140069572935576 -->\n",
       "<g class=\"node\" id=\"node3\">\n",
       "<title>140069572935576</title>\n",
       "<polygon fill=\"none\" points=\"46.5,-.5 46.5,-46.5 298.5,-46.5 298.5,-.5 46.5,-.5\" stroke=\"#000000\"/>\n",
       "<text fill=\"#000000\" font-family=\"Times,serif\" font-size=\"14.00\" text-anchor=\"middle\" x=\"100.5\" y=\"-19.8\">model_4: Model</text>\n",
       "<polyline fill=\"none\" points=\"154.5,-.5 154.5,-46.5 \" stroke=\"#000000\"/>\n",
       "<text fill=\"#000000\" font-family=\"Times,serif\" font-size=\"14.00\" text-anchor=\"middle\" x=\"182\" y=\"-31.3\">input:</text>\n",
       "<polyline fill=\"none\" points=\"154.5,-23.5 209.5,-23.5 \" stroke=\"#000000\"/>\n",
       "<text fill=\"#000000\" font-family=\"Times,serif\" font-size=\"14.00\" text-anchor=\"middle\" x=\"182\" y=\"-8.3\">output:</text>\n",
       "<polyline fill=\"none\" points=\"209.5,-.5 209.5,-46.5 \" stroke=\"#000000\"/>\n",
       "<text fill=\"#000000\" font-family=\"Times,serif\" font-size=\"14.00\" text-anchor=\"middle\" x=\"254\" y=\"-31.3\">(None, 2048)</text>\n",
       "<polyline fill=\"none\" points=\"209.5,-23.5 298.5,-23.5 \" stroke=\"#000000\"/>\n",
       "<text fill=\"#000000\" font-family=\"Times,serif\" font-size=\"14.00\" text-anchor=\"middle\" x=\"254\" y=\"-8.3\">(None, 1)</text>\n",
       "</g>\n",
       "<!-- 140069574332656&#45;&gt;140069572935576 -->\n",
       "<g class=\"edge\" id=\"edge2\">\n",
       "<title>140069574332656-&gt;140069572935576</title>\n",
       "<path d=\"M172.5,-83.3799C172.5,-75.1745 172.5,-65.7679 172.5,-56.8786\" fill=\"none\" stroke=\"#000000\"/>\n",
       "<polygon fill=\"#000000\" points=\"176.0001,-56.784 172.5,-46.784 169.0001,-56.784 176.0001,-56.784\" stroke=\"#000000\"/>\n",
       "</g>\n",
       "</g>\n",
       "</svg>"
      ],
      "text/plain": [
       "<IPython.core.display.SVG object>"
      ]
     },
     "execution_count": 27,
     "metadata": {},
     "output_type": "execute_result"
    }
   ],
   "source": [
    "from IPython.display import SVG\n",
    "from keras.utils.vis_utils import model_to_dot\n",
    "\n",
    "SVG(model_to_dot(model,show_shapes = True).create(prog='dot', format='svg'))"
   ]
  },
  {
   "cell_type": "code",
   "execution_count": 28,
   "metadata": {},
   "outputs": [
    {
     "name": "stdout",
     "output_type": "stream",
     "text": [
      "_________________________________________________________________\n",
      "Layer (type)                 Output Shape              Param #   \n",
      "=================================================================\n",
      "xception (Model)             (None, 2048)              20861480  \n",
      "_________________________________________________________________\n",
      "model_4 (Model)              (None, 1)                 524801    \n",
      "=================================================================\n",
      "Total params: 21,386,281\n",
      "Trainable params: 5,275,649\n",
      "Non-trainable params: 16,110,632\n",
      "_________________________________________________________________\n"
     ]
    }
   ],
   "source": [
    "model.summary()"
   ]
  },
  {
   "cell_type": "code",
   "execution_count": 29,
   "metadata": {},
   "outputs": [
    {
     "name": "stderr",
     "output_type": "stream",
     "text": [
      "100%|██████████| 12500/12500 [02:50<00:00, 73.12it/s]\n"
     ]
    }
   ],
   "source": [
    "import numpy as np\n",
    "from tqdm import tqdm\n",
    "\n",
    "from keras.preprocessing import image\n",
    "from sklearn.utils import shuffle\n",
    "\n",
    "import cv2\n",
    "\n",
    "import matplotlib.pyplot as plt\n",
    "%matplotlib inline\n",
    "\n",
    "np.random.seed(2018)\n",
    "\n",
    "n = 25000\n",
    "n_test = 12500\n",
    "\n",
    "X = np.zeros((n,299,299,3),dtype = np.uint8)\n",
    "y = np.zeros((n,1),dtype = np.uint8)\n",
    "\n",
    "X_test = np.zeros((n_test,299,299,3),dtype = np.uint8)\n",
    "\n",
    "for i in tqdm(range(int(n/2))):\n",
    "    X[i] = cv2.resize(cv2.imread('train/cat.%d.jpg'%i),(299,299))\n",
    "    X[i+int(n/2)] = cv2.resize(cv2.imread('train/dog.%d.jpg'%i),(299,299))\n",
    "\n",
    "y[int(n/2):] = 1\n",
    "\n",
    "X_train,y_train = shuffle(X,y)\n"
   ]
  },
  {
   "cell_type": "code",
   "execution_count": 30,
   "metadata": {},
   "outputs": [
    {
     "name": "stdout",
     "output_type": "stream",
     "text": [
      "Train on 20000 samples, validate on 5000 samples\n",
      "Epoch 1/50\n",
      "20000/20000 [==============================] - 138s 7ms/step - loss: 0.1645 - acc: 0.9542 - val_loss: 0.0177 - val_acc: 0.9942\n",
      "Epoch 2/50\n",
      "20000/20000 [==============================] - 112s 6ms/step - loss: 0.1029 - acc: 0.9694 - val_loss: 0.0185 - val_acc: 0.9942\n",
      "Epoch 3/50\n",
      "20000/20000 [==============================] - 112s 6ms/step - loss: 0.0740 - acc: 0.9748 - val_loss: 0.0205 - val_acc: 0.9926\n",
      "Epoch 4/50\n",
      "20000/20000 [==============================] - 112s 6ms/step - loss: 0.0711 - acc: 0.9770 - val_loss: 0.0225 - val_acc: 0.9920\n",
      "Epoch 5/50\n",
      "20000/20000 [==============================] - 112s 6ms/step - loss: 0.0635 - acc: 0.9778 - val_loss: 0.0238 - val_acc: 0.9914\n",
      "Epoch 6/50\n",
      "20000/20000 [==============================] - 112s 6ms/step - loss: 0.0591 - acc: 0.9799 - val_loss: 0.0253 - val_acc: 0.9910\n",
      "Epoch 7/50\n",
      "20000/20000 [==============================] - 112s 6ms/step - loss: 0.0593 - acc: 0.9796 - val_loss: 0.0261 - val_acc: 0.9910\n",
      "Epoch 8/50\n",
      "20000/20000 [==============================] - 112s 6ms/step - loss: 0.0554 - acc: 0.9813 - val_loss: 0.0267 - val_acc: 0.9910\n",
      "Epoch 9/50\n",
      "20000/20000 [==============================] - 112s 6ms/step - loss: 0.0560 - acc: 0.9815 - val_loss: 0.0272 - val_acc: 0.9906\n",
      "Epoch 10/50\n",
      "20000/20000 [==============================] - 112s 6ms/step - loss: 0.0534 - acc: 0.9819 - val_loss: 0.0279 - val_acc: 0.9904\n",
      "Epoch 11/50\n",
      "20000/20000 [==============================] - 112s 6ms/step - loss: 0.0459 - acc: 0.9836 - val_loss: 0.0275 - val_acc: 0.9904\n",
      "Epoch 00011: early stopping\n"
     ]
    },
    {
     "data": {
      "text/plain": [
       "<keras.callbacks.History at 0x7f649b0ed208>"
      ]
     },
     "execution_count": 30,
     "metadata": {},
     "output_type": "execute_result"
    }
   ],
   "source": [
    "from keras.callbacks import Callback,EarlyStopping\n",
    "\n",
    "\n",
    "class LossHistory(Callback):\n",
    "    def on_train_begin(self,log={}):\n",
    "        self.losses = []\n",
    "        self.val_losses = []\n",
    "        self.acc = []\n",
    "        self.val_acc = []\n",
    "    def on_epoch_end(self,batch,logs={}):\n",
    "        self.losses.append(logs.get('loss'))\n",
    "        self.val_losses.append(logs.get('val_loss'))\n",
    "        self.acc.append(logs.get('acc'))\n",
    "        self.val_acc.append(logs.get('val_acc'))\n",
    "\n",
    "history = LossHistory()\n",
    "\n",
    "earlystop = EarlyStopping(monitor='val_acc',patience =10,verbose=1,mode = 'max')\n",
    "\n",
    "model.fit(X_train, y_train, batch_size=128, epochs=50,validation_split=0.2,callbacks = [history,earlystop])"
   ]
  },
  {
   "cell_type": "code",
   "execution_count": 31,
   "metadata": {},
   "outputs": [
    {
     "data": {
      "text/plain": [
       "<matplotlib.legend.Legend at 0x7f649a919d30>"
      ]
     },
     "execution_count": 31,
     "metadata": {},
     "output_type": "execute_result"
    },
    {
     "data": {
      "image/png": "[encoded data removed]",
      "text/plain": [
       "<Figure size 1152x576 with 2 Axes>"
      ]
     },
     "metadata": {},
     "output_type": "display_data"
    }
   ],
   "source": [
    "import matplotlib.pyplot as plt\n",
    "import cv2\n",
    "%matplotlib inline\n",
    "\n",
    "losses,val_losses ,acc,val_acc= history.losses,history.val_losses,history.acc,history.val_acc\n",
    "fig = plt.figure(figsize = (16,8))\n",
    "\n",
    "plt.subplot(211) \n",
    "\n",
    "plt.plot(losses,'g',label = 'train_losses')\n",
    "plt.plot(val_losses,'r',label = 'val_losses')\n",
    "plt.grid(True)\n",
    "plt.title('Training vs Validation ')\n",
    "plt.xlabel('Epochs')\n",
    "plt.ylabel('Loss')\n",
    "\n",
    "plt.legend(loc=0)\n",
    "\n",
    "plt.subplot(212) \n",
    "\n",
    "plt.plot(acc,'b',label = 'train_acc')\n",
    "plt.plot(val_acc,'y',label = 'val_acc')\n",
    "plt.ylabel('Acc')\n",
    "plt.xlabel('Epochs')\n",
    "plt.grid(True)\n",
    "plt.legend(loc=0)"
   ]
  },
  {
   "cell_type": "code",
   "execution_count": 32,
   "metadata": {},
   "outputs": [
    {
     "name": "stdout",
     "output_type": "stream",
     "text": [
      "Found 12500 images belonging to 1 classes.\n",
      "782/782 [==============================] - 70s 90ms/step\n"
     ]
    },
    {
     "name": "stderr",
     "output_type": "stream",
     "text": [
      "/home/ubuntu/anaconda3/envs/tensorflow_p36/lib/python3.6/site-packages/ipykernel/__main__.py:22: FutureWarning: set_value is deprecated and will be removed in a future release. Please use .at[] or .iat[] accessors instead\n"
     ]
    },
    {
     "data": {
      "text/html": [
       "<div>\n",
       "<style scoped>\n",
       "    .dataframe tbody tr th:only-of-type {\n",
       "        vertical-align: middle;\n",
       "    }\n",
       "\n",
       "    .dataframe tbody tr th {\n",
       "        vertical-align: top;\n",
       "    }\n",
       "\n",
       "    .dataframe thead th {\n",
       "        text-align: right;\n",
       "    }\n",
       "</style>\n",
       "<table border=\"1\" class=\"dataframe\">\n",
       "  <thead>\n",
       "    <tr style=\"text-align: right;\">\n",
       "      <th></th>\n",
       "      <th>id</th>\n",
       "      <th>label</th>\n",
       "    </tr>\n",
       "  </thead>\n",
       "  <tbody>\n",
       "    <tr>\n",
       "      <th>0</th>\n",
       "      <td>1</td>\n",
       "      <td>0.995</td>\n",
       "    </tr>\n",
       "    <tr>\n",
       "      <th>1</th>\n",
       "      <td>2</td>\n",
       "      <td>0.995</td>\n",
       "    </tr>\n",
       "    <tr>\n",
       "      <th>2</th>\n",
       "      <td>3</td>\n",
       "      <td>0.995</td>\n",
       "    </tr>\n",
       "    <tr>\n",
       "      <th>3</th>\n",
       "      <td>4</td>\n",
       "      <td>0.995</td>\n",
       "    </tr>\n",
       "    <tr>\n",
       "      <th>4</th>\n",
       "      <td>5</td>\n",
       "      <td>0.005</td>\n",
       "    </tr>\n",
       "    <tr>\n",
       "      <th>5</th>\n",
       "      <td>6</td>\n",
       "      <td>0.005</td>\n",
       "    </tr>\n",
       "    <tr>\n",
       "      <th>6</th>\n",
       "      <td>7</td>\n",
       "      <td>0.005</td>\n",
       "    </tr>\n",
       "    <tr>\n",
       "      <th>7</th>\n",
       "      <td>8</td>\n",
       "      <td>0.005</td>\n",
       "    </tr>\n",
       "    <tr>\n",
       "      <th>8</th>\n",
       "      <td>9</td>\n",
       "      <td>0.005</td>\n",
       "    </tr>\n",
       "    <tr>\n",
       "      <th>9</th>\n",
       "      <td>10</td>\n",
       "      <td>0.005</td>\n",
       "    </tr>\n",
       "  </tbody>\n",
       "</table>\n",
       "</div>"
      ],
      "text/plain": [
       "   id  label\n",
       "0   1  0.995\n",
       "1   2  0.995\n",
       "2   3  0.995\n",
       "3   4  0.995\n",
       "4   5  0.005\n",
       "5   6  0.005\n",
       "6   7  0.005\n",
       "7   8  0.005\n",
       "8   9  0.005\n",
       "9  10  0.005"
      ]
     },
     "execution_count": 32,
     "metadata": {},
     "output_type": "execute_result"
    }
   ],
   "source": [
    "import pandas as pd\n",
    "from keras.preprocessing.image import ImageDataGenerator\n",
    "\n",
    "import os\n",
    "\n",
    "df = pd.read_csv(\"sample_submission.csv\")\n",
    "\n",
    "image_size = (299, 299)\n",
    "image_gen = ImageDataGenerator()\n",
    "test_gen  = image_gen.flow_from_directory(\"test_gen\",image_size, shuffle=False, batch_size=16, class_mode=None)\n",
    "\n",
    "y_pred = model.predict_generator(test_gen,verbose = 1)\n",
    "y_pred = y_pred.clip(min=0.005, max=0.995)\n",
    "\n",
    "\n",
    "pred_filenames = test_gen.filenames\n",
    "\n",
    "#pred_filenames = os.listdir('test_gen/test')\n",
    "\n",
    "for i, fname in enumerate(pred_filenames):\n",
    "    index = int(fname[fname.rfind('/')+1:fname.rfind('.')])\n",
    "    df.set_value(index-1, 'label', y_pred[i])\n",
    "\n",
    "\n",
    "df.to_csv('pred_%s.csv'%'xception_fine', index=None)\n",
    "df.head(10)\n",
    "\n"
   ]
  },
  {
   "cell_type": "code",
   "execution_count": 33,
   "metadata": {
    "collapsed": true
   },
   "outputs": [],
   "source": [
    "import os\n",
    "\n",
    "if not os.path.exists('models'):\n",
    "    os.mkdir('models')\n",
    "\n",
    "model_json_string = model.to_json()\n",
    "open(\"./models/model_string_xception_fine.json\",'w+').write(model_json_string)\n",
    "model.save_weights(\"./models/model_weights_xception_fine.h5\")"
   ]
  },
  {
   "cell_type": "markdown",
   "metadata": {},
   "source": [
    "# Check point4"
   ]
  },
  {
   "cell_type": "code",
   "execution_count": 1,
   "metadata": {},
   "outputs": [
    {
     "name": "stderr",
     "output_type": "stream",
     "text": [
      "/home/ubuntu/anaconda3/envs/tensorflow_p36/lib/python3.6/site-packages/h5py/__init__.py:36: FutureWarning: Conversion of the second argument of issubdtype from `float` to `np.floating` is deprecated. In future, it will be treated as `np.float64 == np.dtype(float).type`.\n",
      "  from ._conv import register_converters as _register_converters\n"
     ]
    }
   ],
   "source": [
    "import h5py\n",
    "import numpy as np\n",
    "from sklearn.utils import shuffle\n",
    "np.random.seed(2017)\n",
    "\n",
    "X_train = []\n",
    "X_test = []\n",
    "X_valid = []\n",
    "#y_train = []\n",
    "\n",
    "filenames = ['gap_pred_resnet50.h5','gap_pred_xception.h5','gap_pred_inception_v3.h5']\n",
    "\n",
    "for filename in filenames:\n",
    "    with h5py.File(filename, 'r') as h:\n",
    "        X_train.append(np.array(h['train']))\n",
    "        X_valid.append(np.array(h['valid']))\n",
    "        X_test.append(np.array(h['test']))\n",
    "        y_train=np.array(h['train_label'])\n",
    "        y_valid=np.array(h['valid_label'])\n"
   ]
  },
  {
   "cell_type": "code",
   "execution_count": 2,
   "metadata": {
    "collapsed": true
   },
   "outputs": [],
   "source": [
    "X_train = np.concatenate(X_train, axis=1)\n",
    "X_test = np.concatenate(X_test, axis=1)\n",
    "X_valid = np.concatenate(X_valid,axis=1)\n",
    "\n",
    "#X_train, y_train = shuffle(X_train, y_train)"
   ]
  },
  {
   "cell_type": "code",
   "execution_count": 3,
   "metadata": {},
   "outputs": [
    {
     "name": "stdout",
     "output_type": "stream",
     "text": [
      "(20000, 6144) (20000,) (5000, 6144)\n"
     ]
    }
   ],
   "source": [
    "print (np.shape(X_train),np.shape(y_train),np.shape(X_valid))"
   ]
  },
  {
   "cell_type": "code",
   "execution_count": 4,
   "metadata": {},
   "outputs": [
    {
     "name": "stderr",
     "output_type": "stream",
     "text": [
      "Using TensorFlow backend.\n",
      "/home/ubuntu/anaconda3/envs/tensorflow_p36/lib/python3.6/site-packages/matplotlib/__init__.py:1067: UserWarning: Duplicate key in file \"/home/ubuntu/.config/matplotlib/matplotlibrc\", line #2\n",
      "  (fname, cnt))\n",
      "/home/ubuntu/anaconda3/envs/tensorflow_p36/lib/python3.6/site-packages/matplotlib/__init__.py:1067: UserWarning: Duplicate key in file \"/home/ubuntu/.config/matplotlib/matplotlibrc\", line #3\n",
      "  (fname, cnt))\n"
     ]
    }
   ],
   "source": [
    "from keras.models import *\n",
    "from keras.layers import *\n",
    "\n",
    "input_tensor = Input(X_train.shape[1:])\n",
    "x = input_tensor\n",
    "x = Dropout(0.5,name = 'dropout_top')(x)\n",
    "x = Dense(1, activation='sigmoid',name = 'dense_top')(x)\n",
    "model = Model(input_tensor, x)\n",
    "\n",
    "model.compile(optimizer='adadelta',\n",
    "              loss='binary_crossentropy',\n",
    "              metrics=['accuracy'])"
   ]
  },
  {
   "cell_type": "code",
   "execution_count": 5,
   "metadata": {
    "collapsed": true
   },
   "outputs": [],
   "source": [
    "from PIL import Image\n",
    "from keras.preprocessing import image\n",
    "from keras.callbacks import Callback,EarlyStopping\n",
    "\n",
    "\n",
    "class LossHistory(Callback):\n",
    "    def on_train_begin(self,log={}):\n",
    "        self.losses = []\n",
    "        self.val_losses = []\n",
    "        self.acc = []\n",
    "        self.val_acc = []\n",
    "    def on_epoch_end(self,batch,logs={}):\n",
    "        self.losses.append(logs.get('loss'))\n",
    "        self.val_losses.append(logs.get('val_loss'))\n",
    "        self.acc.append(logs.get('acc'))\n",
    "        self.val_acc.append(logs.get('val_acc'))\n",
    "\n",
    "history = LossHistory()\n",
    "earlystop = EarlyStopping(monitor='val_acc',patience =10,verbose=1,mode = 'max')"
   ]
  },
  {
   "cell_type": "code",
   "execution_count": 6,
   "metadata": {},
   "outputs": [
    {
     "name": "stdout",
     "output_type": "stream",
     "text": [
      "Train on 20000 samples, validate on 5000 samples\n",
      "Epoch 1/50\n",
      "20000/20000 [==============================] - 2s 86us/step - loss: 0.0718 - acc: 0.9759 - val_loss: 0.0243 - val_acc: 0.9908\n",
      "Epoch 2/50\n",
      "20000/20000 [==============================] - 1s 39us/step - loss: 0.0218 - acc: 0.9929 - val_loss: 0.0169 - val_acc: 0.9942\n",
      "Epoch 3/50\n",
      "20000/20000 [==============================] - 1s 39us/step - loss: 0.0174 - acc: 0.9946 - val_loss: 0.0153 - val_acc: 0.9946\n",
      "Epoch 4/50\n",
      "20000/20000 [==============================] - 1s 39us/step - loss: 0.0149 - acc: 0.9951 - val_loss: 0.0153 - val_acc: 0.9946\n",
      "Epoch 5/50\n",
      "20000/20000 [==============================] - 1s 39us/step - loss: 0.0145 - acc: 0.9950 - val_loss: 0.0148 - val_acc: 0.9944\n",
      "Epoch 6/50\n",
      "20000/20000 [==============================] - 1s 39us/step - loss: 0.0133 - acc: 0.9953 - val_loss: 0.0148 - val_acc: 0.9950\n",
      "Epoch 7/50\n",
      "20000/20000 [==============================] - 1s 38us/step - loss: 0.0114 - acc: 0.9967 - val_loss: 0.0156 - val_acc: 0.9950\n",
      "Epoch 8/50\n",
      "20000/20000 [==============================] - 1s 39us/step - loss: 0.0111 - acc: 0.9961 - val_loss: 0.0151 - val_acc: 0.9952\n",
      "Epoch 9/50\n",
      "20000/20000 [==============================] - 1s 38us/step - loss: 0.0102 - acc: 0.9968 - val_loss: 0.0158 - val_acc: 0.9954\n",
      "Epoch 10/50\n",
      "20000/20000 [==============================] - 1s 39us/step - loss: 0.0092 - acc: 0.9969 - val_loss: 0.0158 - val_acc: 0.9952\n",
      "Epoch 11/50\n",
      "20000/20000 [==============================] - 1s 39us/step - loss: 0.0096 - acc: 0.9969 - val_loss: 0.0152 - val_acc: 0.9954\n",
      "Epoch 12/50\n",
      "20000/20000 [==============================] - 1s 39us/step - loss: 0.0091 - acc: 0.9971 - val_loss: 0.0165 - val_acc: 0.9954\n",
      "Epoch 13/50\n",
      "20000/20000 [==============================] - 1s 39us/step - loss: 0.0089 - acc: 0.9972 - val_loss: 0.0167 - val_acc: 0.9952\n",
      "Epoch 14/50\n",
      "20000/20000 [==============================] - 1s 38us/step - loss: 0.0088 - acc: 0.9970 - val_loss: 0.0170 - val_acc: 0.9948\n",
      "Epoch 15/50\n",
      "20000/20000 [==============================] - 1s 39us/step - loss: 0.0083 - acc: 0.9972 - val_loss: 0.0160 - val_acc: 0.9946\n",
      "Epoch 16/50\n",
      "20000/20000 [==============================] - 1s 39us/step - loss: 0.0079 - acc: 0.9978 - val_loss: 0.0161 - val_acc: 0.9952\n",
      "Epoch 17/50\n",
      "20000/20000 [==============================] - 1s 39us/step - loss: 0.0079 - acc: 0.9976 - val_loss: 0.0161 - val_acc: 0.9948\n",
      "Epoch 18/50\n",
      "20000/20000 [==============================] - 1s 39us/step - loss: 0.0081 - acc: 0.9974 - val_loss: 0.0159 - val_acc: 0.9948\n",
      "Epoch 19/50\n",
      "20000/20000 [==============================] - 1s 38us/step - loss: 0.0075 - acc: 0.9973 - val_loss: 0.0164 - val_acc: 0.9948\n",
      "Epoch 00019: early stopping\n"
     ]
    },
    {
     "data": {
      "text/plain": [
       "<keras.callbacks.History at 0x7f29234ad128>"
      ]
     },
     "execution_count": 6,
     "metadata": {},
     "output_type": "execute_result"
    }
   ],
   "source": [
    "model.fit(X_train, y_train, batch_size=128, epochs=50, validation_data = (X_valid,y_valid),callbacks = [history,earlystop])"
   ]
  },
  {
   "cell_type": "code",
   "execution_count": 7,
   "metadata": {},
   "outputs": [
    {
     "data": {
      "text/plain": [
       "<matplotlib.legend.Legend at 0x7f28c01ec7b8>"
      ]
     },
     "execution_count": 7,
     "metadata": {},
     "output_type": "execute_result"
    },
    {
     "data": {
      "image/png": "[encoded data removed]",
      "text/plain": [
       "<Figure size 1152x576 with 2 Axes>"
      ]
     },
     "metadata": {},
     "output_type": "display_data"
    }
   ],
   "source": [
    "import matplotlib.pyplot as plt\n",
    "import cv2\n",
    "%matplotlib inline\n",
    "\n",
    "losses,val_losses ,acc,val_acc= history.losses,history.val_losses,history.acc,history.val_acc\n",
    "fig = plt.figure(figsize = (16,8))\n",
    "\n",
    "plt.subplot(211) \n",
    "\n",
    "plt.plot(losses,'g',label = 'train_losses')\n",
    "plt.plot(val_losses,'r',label = 'val_losses')\n",
    "plt.grid(True)\n",
    "plt.title('Training vs Validation ')\n",
    "plt.xlabel('Epochs')\n",
    "plt.ylabel('Loss')\n",
    "\n",
    "plt.legend(loc=0)\n",
    "\n",
    "plt.subplot(212) \n",
    "\n",
    "plt.plot(acc,'b',label = 'train_acc')\n",
    "plt.plot(val_acc,'y',label = 'val_acc')\n",
    "plt.ylabel('Acc')\n",
    "plt.xlabel('Epochs')\n",
    "plt.grid(True)\n",
    "plt.legend(loc=0)"
   ]
  },
  {
   "cell_type": "code",
   "execution_count": 9,
   "metadata": {},
   "outputs": [
    {
     "name": "stdout",
     "output_type": "stream",
     "text": [
      "_________________________________________________________________\n",
      "Layer (type)                 Output Shape              Param #   \n",
      "=================================================================\n",
      "input_1 (InputLayer)         (None, 6144)              0         \n",
      "_________________________________________________________________\n",
      "dropout_top (Dropout)        (None, 6144)              0         \n",
      "_________________________________________________________________\n",
      "dense_top (Dense)            (None, 1)                 6145      \n",
      "=================================================================\n",
      "Total params: 6,145\n",
      "Trainable params: 6,145\n",
      "Non-trainable params: 0\n",
      "_________________________________________________________________\n"
     ]
    }
   ],
   "source": [
    "model.summary()"
   ]
  },
  {
   "cell_type": "code",
   "execution_count": 10,
   "metadata": {},
   "outputs": [
    {
     "name": "stdout",
     "output_type": "stream",
     "text": [
      "Found 12500 images belonging to 1 classes.\n",
      "12500/12500 [==============================] - 0s 35us/step\n"
     ]
    },
    {
     "name": "stderr",
     "output_type": "stream",
     "text": [
      "/home/ubuntu/anaconda3/envs/tensorflow_p36/lib/python3.6/site-packages/ipykernel/__main__.py:23: FutureWarning: set_value is deprecated and will be removed in a future release. Please use .at[] or .iat[] accessors instead\n"
     ]
    },
    {
     "data": {
      "text/html": [
       "<div>\n",
       "<style scoped>\n",
       "    .dataframe tbody tr th:only-of-type {\n",
       "        vertical-align: middle;\n",
       "    }\n",
       "\n",
       "    .dataframe tbody tr th {\n",
       "        vertical-align: top;\n",
       "    }\n",
       "\n",
       "    .dataframe thead th {\n",
       "        text-align: right;\n",
       "    }\n",
       "</style>\n",
       "<table border=\"1\" class=\"dataframe\">\n",
       "  <thead>\n",
       "    <tr style=\"text-align: right;\">\n",
       "      <th></th>\n",
       "      <th>id</th>\n",
       "      <th>label</th>\n",
       "    </tr>\n",
       "  </thead>\n",
       "  <tbody>\n",
       "    <tr>\n",
       "      <th>0</th>\n",
       "      <td>1</td>\n",
       "      <td>0.995</td>\n",
       "    </tr>\n",
       "    <tr>\n",
       "      <th>1</th>\n",
       "      <td>2</td>\n",
       "      <td>0.995</td>\n",
       "    </tr>\n",
       "    <tr>\n",
       "      <th>2</th>\n",
       "      <td>3</td>\n",
       "      <td>0.995</td>\n",
       "    </tr>\n",
       "    <tr>\n",
       "      <th>3</th>\n",
       "      <td>4</td>\n",
       "      <td>0.995</td>\n",
       "    </tr>\n",
       "    <tr>\n",
       "      <th>4</th>\n",
       "      <td>5</td>\n",
       "      <td>0.005</td>\n",
       "    </tr>\n",
       "    <tr>\n",
       "      <th>5</th>\n",
       "      <td>6</td>\n",
       "      <td>0.005</td>\n",
       "    </tr>\n",
       "    <tr>\n",
       "      <th>6</th>\n",
       "      <td>7</td>\n",
       "      <td>0.005</td>\n",
       "    </tr>\n",
       "    <tr>\n",
       "      <th>7</th>\n",
       "      <td>8</td>\n",
       "      <td>0.005</td>\n",
       "    </tr>\n",
       "    <tr>\n",
       "      <th>8</th>\n",
       "      <td>9</td>\n",
       "      <td>0.005</td>\n",
       "    </tr>\n",
       "    <tr>\n",
       "      <th>9</th>\n",
       "      <td>10</td>\n",
       "      <td>0.005</td>\n",
       "    </tr>\n",
       "  </tbody>\n",
       "</table>\n",
       "</div>"
      ],
      "text/plain": [
       "   id  label\n",
       "0   1  0.995\n",
       "1   2  0.995\n",
       "2   3  0.995\n",
       "3   4  0.995\n",
       "4   5  0.005\n",
       "5   6  0.005\n",
       "6   7  0.005\n",
       "7   8  0.005\n",
       "8   9  0.005\n",
       "9  10  0.005"
      ]
     },
     "execution_count": 10,
     "metadata": {},
     "output_type": "execute_result"
    }
   ],
   "source": [
    "import pandas as pd\n",
    "from keras.preprocessing.image import ImageDataGenerator\n",
    "\n",
    "import os\n",
    "\n",
    "df = pd.read_csv(\"sample_submission.csv\")\n",
    "\n",
    "image_size = (299, 299)\n",
    "image_gen = ImageDataGenerator()\n",
    "test_gen  = image_gen.flow_from_directory(\"test_gen\",image_size, shuffle=False, batch_size=16, class_mode=None)\n",
    "\n",
    "#y_pred = model.predict_generator(test_gen,verbose = 1)\n",
    "y_pred = model.predict(X_test,verbose = 1)\n",
    "y_pred = y_pred.clip(min=0.005, max=0.995)\n",
    "\n",
    "\n",
    "pred_filenames = test_gen.filenames\n",
    "\n",
    "#pred_filenames = os.listdir('test_gen/test')\n",
    "\n",
    "for i, fname in enumerate(pred_filenames):\n",
    "    index = int(fname[fname.rfind('/')+1:fname.rfind('.')])\n",
    "    df.set_value(index-1, 'label', y_pred[i])\n",
    "\n",
    "\n",
    "df.to_csv('pred_gap.csv', index=None)\n",
    "df.head(10)"
   ]
  },
  {
   "cell_type": "code",
   "execution_count": 12,
   "metadata": {
    "collapsed": true
   },
   "outputs": [],
   "source": [
    "import os\n",
    "\n",
    "if not os.path.exists('models'):\n",
    "    os.mkdir('models')\n",
    "\n",
    "model_json_string = model.to_json()\n",
    "open(\"./models/model_string_xception_fine.json\",'w+').write(model_json_string)\n",
    "model.save_weights(\"./models/model_weights_gap_top.h5\")"
   ]
  },
  {
   "cell_type": "code",
   "execution_count": 43,
   "metadata": {
    "collapsed": true
   },
   "outputs": [],
   "source": [
    "from keras.models import Model,Sequential,model_from_json\n",
    "from keras.layers import Dense,Dropout,GlobalAveragePooling2D,Input,Lambda,Concatenate\n",
    "from keras.applications.xception import Xception,preprocess_input\n",
    "from keras.applications.resnet50 import ResNet50\n",
    "from keras.applications.inception_v3 import InceptionV3\n",
    "from keras.preprocessing.image import ImageDataGenerator\n",
    "\n",
    "from keras.applications import xception,inception_v3\n",
    "\n",
    "\n",
    "\n",
    "gap_resnet50 = ResNet50(weights = 'imagenet',include_top = False,pooling = 'avg')\n",
    "\n",
    "gap_xception = Xception(weights = 'imagenet',include_top = False,pooling = 'avg')\n",
    "\n",
    "gap_inceptionv3 = InceptionV3(weights = 'imagenet',include_top = False,pooling = 'avg')\n",
    "\n",
    "input_1 = Input((224,224,3),name = 'input_224')\n",
    "\n",
    "input_2 = Input((299,299,3),name = 'input_299')\n",
    "x_xception = Lambda(xception.preprocess_input)(input_2)\n",
    "x_inceptionv3 = Lambda(inception_v3.preprocess_input)(input_2)\n",
    "\n",
    "gap_resnet50 = gap_resnet50(input_1)\n",
    "\n",
    "gap_xception = gap_xception(x_xception)\n",
    "\n",
    "gap_inceptionv3 = gap_inceptionv3(x_inceptionv3)\n"
   ]
  },
  {
   "cell_type": "code",
   "execution_count": 44,
   "metadata": {
    "collapsed": true
   },
   "outputs": [],
   "source": [
    "layer = Concatenate(axis = 1)([gap_resnet50,gap_xception,gap_inceptionv3])\n",
    "\n",
    "layer = Dropout(0.5,name = 'dropout_top')(layer)\n",
    "layer = Dense(1, activation='sigmoid',name = 'dense_top')(layer)\n",
    "model = Model([input_1,input_2],layer)\n",
    "\n",
    "\n",
    "model.compile(optimizer='adadelta',\n",
    "              loss='binary_crossentropy',\n",
    "              metrics=['accuracy'])"
   ]
  },
  {
   "cell_type": "code",
   "execution_count": 45,
   "metadata": {
    "collapsed": true
   },
   "outputs": [],
   "source": [
    "model.load_weights('./models/model_weights_gap_top.h5',by_name= True)\n",
    "for layer in model.layers:\n",
    "    layer.trainable = False"
   ]
  },
  {
   "cell_type": "code",
   "execution_count": 46,
   "metadata": {},
   "outputs": [
    {
     "name": "stdout",
     "output_type": "stream",
     "text": [
      "__________________________________________________________________________________________________\n",
      "Layer (type)                    Output Shape         Param #     Connected to                     \n",
      "==================================================================================================\n",
      "input_299 (InputLayer)          (None, 299, 299, 3)  0                                            \n",
      "__________________________________________________________________________________________________\n",
      "input_224 (InputLayer)          (None, 224, 224, 3)  0                                            \n",
      "__________________________________________________________________________________________________\n",
      "lambda_2 (Lambda)               (None, 299, 299, 3)  0           input_299[0][0]                  \n",
      "__________________________________________________________________________________________________\n",
      "lambda_3 (Lambda)               (None, 299, 299, 3)  0           input_299[0][0]                  \n",
      "__________________________________________________________________________________________________\n",
      "resnet50 (Model)                (None, 2048)         23587712    input_224[0][0]                  \n",
      "__________________________________________________________________________________________________\n",
      "xception (Model)                (None, 2048)         20861480    lambda_2[0][0]                   \n",
      "__________________________________________________________________________________________________\n",
      "inception_v3 (Model)            (None, 2048)         21802784    lambda_3[0][0]                   \n",
      "__________________________________________________________________________________________________\n",
      "concatenate_3 (Concatenate)     (None, 6144)         0           resnet50[1][0]                   \n",
      "                                                                 xception[1][0]                   \n",
      "                                                                 inception_v3[1][0]               \n",
      "__________________________________________________________________________________________________\n",
      "dropout_top (Dropout)           (None, 6144)         0           concatenate_3[0][0]              \n",
      "__________________________________________________________________________________________________\n",
      "dense_top (Dense)               (None, 1)            6145        dropout_top[0][0]                \n",
      "==================================================================================================\n",
      "Total params: 132,374,162\n",
      "Trainable params: 66,116,041\n",
      "Non-trainable params: 66,258,121\n",
      "__________________________________________________________________________________________________\n"
     ]
    },
    {
     "name": "stderr",
     "output_type": "stream",
     "text": [
      "/home/ubuntu/anaconda3/envs/tensorflow_p36/lib/python3.6/site-packages/keras/engine/training.py:973: UserWarning: Discrepancy between trainable weights and collected trainable weights, did you set `model.trainable` without calling `model.compile` after ?\n",
      "  'Discrepancy between trainable weights and collected trainable'\n"
     ]
    }
   ],
   "source": [
    "model.summary()"
   ]
  },
  {
   "cell_type": "code",
   "execution_count": 50,
   "metadata": {},
   "outputs": [
    {
     "data": {
      "image/svg+xml": [
       "<svg height=\"470pt\" viewBox=\"0.00 0.00 969.00 470.00\" width=\"969pt\" xmlns=\"http://www.w3.org/2000/svg\" xmlns:xlink=\"http://www.w3.org/1999/xlink\">\n",
       "<g class=\"graph\" id=\"graph0\" transform=\"scale(1 1) rotate(0) translate(4 466)\">\n",
       "<title>G</title>\n",
       "<polygon fill=\"#ffffff\" points=\"-4,4 -4,-466 965,-466 965,4 -4,4\" stroke=\"transparent\"/>\n",
       "<!-- 140064804586272 -->\n",
       "<g class=\"node\" id=\"node1\">\n",
       "<title>140064804586272</title>\n",
       "<polygon fill=\"none\" points=\"152,-415.5 152,-461.5 471,-461.5 471,-415.5 152,-415.5\" stroke=\"#000000\"/>\n",
       "<text fill=\"#000000\" font-family=\"Times,serif\" font-size=\"14.00\" text-anchor=\"middle\" x=\"221.5\" y=\"-434.8\">input_299: InputLayer</text>\n",
       "<polyline fill=\"none\" points=\"291,-415.5 291,-461.5 \" stroke=\"#000000\"/>\n",
       "<text fill=\"#000000\" font-family=\"Times,serif\" font-size=\"14.00\" text-anchor=\"middle\" x=\"318.5\" y=\"-446.3\">input:</text>\n",
       "<polyline fill=\"none\" points=\"291,-438.5 346,-438.5 \" stroke=\"#000000\"/>\n",
       "<text fill=\"#000000\" font-family=\"Times,serif\" font-size=\"14.00\" text-anchor=\"middle\" x=\"318.5\" y=\"-423.3\">output:</text>\n",
       "<polyline fill=\"none\" points=\"346,-415.5 346,-461.5 \" stroke=\"#000000\"/>\n",
       "<text fill=\"#000000\" font-family=\"Times,serif\" font-size=\"14.00\" text-anchor=\"middle\" x=\"408.5\" y=\"-446.3\">(None, 299, 299, 3)</text>\n",
       "<polyline fill=\"none\" points=\"346,-438.5 471,-438.5 \" stroke=\"#000000\"/>\n",
       "<text fill=\"#000000\" font-family=\"Times,serif\" font-size=\"14.00\" text-anchor=\"middle\" x=\"408.5\" y=\"-423.3\">(None, 299, 299, 3)</text>\n",
       "</g>\n",
       "<!-- 140064803539544 -->\n",
       "<g class=\"node\" id=\"node3\">\n",
       "<title>140064803539544</title>\n",
       "<polygon fill=\"none\" points=\"0,-332.5 0,-378.5 303,-378.5 303,-332.5 0,-332.5\" stroke=\"#000000\"/>\n",
       "<text fill=\"#000000\" font-family=\"Times,serif\" font-size=\"14.00\" text-anchor=\"middle\" x=\"61.5\" y=\"-351.8\">lambda_2: Lambda</text>\n",
       "<polyline fill=\"none\" points=\"123,-332.5 123,-378.5 \" stroke=\"#000000\"/>\n",
       "<text fill=\"#000000\" font-family=\"Times,serif\" font-size=\"14.00\" text-anchor=\"middle\" x=\"150.5\" y=\"-363.3\">input:</text>\n",
       "<polyline fill=\"none\" points=\"123,-355.5 178,-355.5 \" stroke=\"#000000\"/>\n",
       "<text fill=\"#000000\" font-family=\"Times,serif\" font-size=\"14.00\" text-anchor=\"middle\" x=\"150.5\" y=\"-340.3\">output:</text>\n",
       "<polyline fill=\"none\" points=\"178,-332.5 178,-378.5 \" stroke=\"#000000\"/>\n",
       "<text fill=\"#000000\" font-family=\"Times,serif\" font-size=\"14.00\" text-anchor=\"middle\" x=\"240.5\" y=\"-363.3\">(None, 299, 299, 3)</text>\n",
       "<polyline fill=\"none\" points=\"178,-355.5 303,-355.5 \" stroke=\"#000000\"/>\n",
       "<text fill=\"#000000\" font-family=\"Times,serif\" font-size=\"14.00\" text-anchor=\"middle\" x=\"240.5\" y=\"-340.3\">(None, 299, 299, 3)</text>\n",
       "</g>\n",
       "<!-- 140064804586272&#45;&gt;140064803539544 -->\n",
       "<g class=\"edge\" id=\"edge1\">\n",
       "<title>140064804586272-&gt;140064803539544</title>\n",
       "<path d=\"M266.9311,-415.3799C247.7667,-405.4384 225.2029,-393.7334 205.1322,-383.3217\" fill=\"none\" stroke=\"#000000\"/>\n",
       "<polygon fill=\"#000000\" points=\"206.5955,-380.1379 196.1071,-378.6399 203.3722,-386.3516 206.5955,-380.1379\" stroke=\"#000000\"/>\n",
       "</g>\n",
       "<!-- 140064803539712 -->\n",
       "<g class=\"node\" id=\"node4\">\n",
       "<title>140064803539712</title>\n",
       "<polygon fill=\"none\" points=\"321,-332.5 321,-378.5 624,-378.5 624,-332.5 321,-332.5\" stroke=\"#000000\"/>\n",
       "<text fill=\"#000000\" font-family=\"Times,serif\" font-size=\"14.00\" text-anchor=\"middle\" x=\"382.5\" y=\"-351.8\">lambda_3: Lambda</text>\n",
       "<polyline fill=\"none\" points=\"444,-332.5 444,-378.5 \" stroke=\"#000000\"/>\n",
       "<text fill=\"#000000\" font-family=\"Times,serif\" font-size=\"14.00\" text-anchor=\"middle\" x=\"471.5\" y=\"-363.3\">input:</text>\n",
       "<polyline fill=\"none\" points=\"444,-355.5 499,-355.5 \" stroke=\"#000000\"/>\n",
       "<text fill=\"#000000\" font-family=\"Times,serif\" font-size=\"14.00\" text-anchor=\"middle\" x=\"471.5\" y=\"-340.3\">output:</text>\n",
       "<polyline fill=\"none\" points=\"499,-332.5 499,-378.5 \" stroke=\"#000000\"/>\n",
       "<text fill=\"#000000\" font-family=\"Times,serif\" font-size=\"14.00\" text-anchor=\"middle\" x=\"561.5\" y=\"-363.3\">(None, 299, 299, 3)</text>\n",
       "<polyline fill=\"none\" points=\"499,-355.5 624,-355.5 \" stroke=\"#000000\"/>\n",
       "<text fill=\"#000000\" font-family=\"Times,serif\" font-size=\"14.00\" text-anchor=\"middle\" x=\"561.5\" y=\"-340.3\">(None, 299, 299, 3)</text>\n",
       "</g>\n",
       "<!-- 140064804586272&#45;&gt;140064803539712 -->\n",
       "<g class=\"edge\" id=\"edge2\">\n",
       "<title>140064804586272-&gt;140064803539712</title>\n",
       "<path d=\"M356.3475,-415.3799C375.6316,-405.4384 398.3364,-393.7334 418.5326,-383.3217\" fill=\"none\" stroke=\"#000000\"/>\n",
       "<polygon fill=\"#000000\" points=\"420.3295,-386.3331 427.6141,-378.6399 417.1219,-380.1113 420.3295,-386.3331\" stroke=\"#000000\"/>\n",
       "</g>\n",
       "<!-- 140065880331936 -->\n",
       "<g class=\"node\" id=\"node2\">\n",
       "<title>140065880331936</title>\n",
       "<polygon fill=\"none\" points=\"642,-332.5 642,-378.5 961,-378.5 961,-332.5 642,-332.5\" stroke=\"#000000\"/>\n",
       "<text fill=\"#000000\" font-family=\"Times,serif\" font-size=\"14.00\" text-anchor=\"middle\" x=\"711.5\" y=\"-351.8\">input_224: InputLayer</text>\n",
       "<polyline fill=\"none\" points=\"781,-332.5 781,-378.5 \" stroke=\"#000000\"/>\n",
       "<text fill=\"#000000\" font-family=\"Times,serif\" font-size=\"14.00\" text-anchor=\"middle\" x=\"808.5\" y=\"-363.3\">input:</text>\n",
       "<polyline fill=\"none\" points=\"781,-355.5 836,-355.5 \" stroke=\"#000000\"/>\n",
       "<text fill=\"#000000\" font-family=\"Times,serif\" font-size=\"14.00\" text-anchor=\"middle\" x=\"808.5\" y=\"-340.3\">output:</text>\n",
       "<polyline fill=\"none\" points=\"836,-332.5 836,-378.5 \" stroke=\"#000000\"/>\n",
       "<text fill=\"#000000\" font-family=\"Times,serif\" font-size=\"14.00\" text-anchor=\"middle\" x=\"898.5\" y=\"-363.3\">(None, 224, 224, 3)</text>\n",
       "<polyline fill=\"none\" points=\"836,-355.5 961,-355.5 \" stroke=\"#000000\"/>\n",
       "<text fill=\"#000000\" font-family=\"Times,serif\" font-size=\"14.00\" text-anchor=\"middle\" x=\"898.5\" y=\"-340.3\">(None, 224, 224, 3)</text>\n",
       "</g>\n",
       "<!-- 140066045255240 -->\n",
       "<g class=\"node\" id=\"node5\">\n",
       "<title>140066045255240</title>\n",
       "<polygon fill=\"none\" points=\"652.5,-249.5 652.5,-295.5 902.5,-295.5 902.5,-249.5 652.5,-249.5\" stroke=\"#000000\"/>\n",
       "<text fill=\"#000000\" font-family=\"Times,serif\" font-size=\"14.00\" text-anchor=\"middle\" x=\"705.5\" y=\"-268.8\">resnet50: Model</text>\n",
       "<polyline fill=\"none\" points=\"758.5,-249.5 758.5,-295.5 \" stroke=\"#000000\"/>\n",
       "<text fill=\"#000000\" font-family=\"Times,serif\" font-size=\"14.00\" text-anchor=\"middle\" x=\"786\" y=\"-280.3\">input:</text>\n",
       "<polyline fill=\"none\" points=\"758.5,-272.5 813.5,-272.5 \" stroke=\"#000000\"/>\n",
       "<text fill=\"#000000\" font-family=\"Times,serif\" font-size=\"14.00\" text-anchor=\"middle\" x=\"786\" y=\"-257.3\">output:</text>\n",
       "<polyline fill=\"none\" points=\"813.5,-249.5 813.5,-295.5 \" stroke=\"#000000\"/>\n",
       "<text fill=\"#000000\" font-family=\"Times,serif\" font-size=\"14.00\" text-anchor=\"middle\" x=\"858\" y=\"-280.3\">multiple</text>\n",
       "<polyline fill=\"none\" points=\"813.5,-272.5 902.5,-272.5 \" stroke=\"#000000\"/>\n",
       "<text fill=\"#000000\" font-family=\"Times,serif\" font-size=\"14.00\" text-anchor=\"middle\" x=\"858\" y=\"-257.3\">(None, 2048)</text>\n",
       "</g>\n",
       "<!-- 140065880331936&#45;&gt;140066045255240 -->\n",
       "<g class=\"edge\" id=\"edge3\">\n",
       "<title>140065880331936-&gt;140066045255240</title>\n",
       "<path d=\"M794.8147,-332.3799C792.4162,-324.0854 789.6629,-314.5633 787.0679,-305.5889\" fill=\"none\" stroke=\"#000000\"/>\n",
       "<polygon fill=\"#000000\" points=\"790.3728,-304.4182 784.2327,-295.784 783.6483,-306.3627 790.3728,-304.4182\" stroke=\"#000000\"/>\n",
       "</g>\n",
       "<!-- 140065879933056 -->\n",
       "<g class=\"node\" id=\"node6\">\n",
       "<title>140065879933056</title>\n",
       "<polygon fill=\"none\" points=\"46,-249.5 46,-295.5 297,-295.5 297,-249.5 46,-249.5\" stroke=\"#000000\"/>\n",
       "<text fill=\"#000000\" font-family=\"Times,serif\" font-size=\"14.00\" text-anchor=\"middle\" x=\"99.5\" y=\"-268.8\">xception: Model</text>\n",
       "<polyline fill=\"none\" points=\"153,-249.5 153,-295.5 \" stroke=\"#000000\"/>\n",
       "<text fill=\"#000000\" font-family=\"Times,serif\" font-size=\"14.00\" text-anchor=\"middle\" x=\"180.5\" y=\"-280.3\">input:</text>\n",
       "<polyline fill=\"none\" points=\"153,-272.5 208,-272.5 \" stroke=\"#000000\"/>\n",
       "<text fill=\"#000000\" font-family=\"Times,serif\" font-size=\"14.00\" text-anchor=\"middle\" x=\"180.5\" y=\"-257.3\">output:</text>\n",
       "<polyline fill=\"none\" points=\"208,-249.5 208,-295.5 \" stroke=\"#000000\"/>\n",
       "<text fill=\"#000000\" font-family=\"Times,serif\" font-size=\"14.00\" text-anchor=\"middle\" x=\"252.5\" y=\"-280.3\">multiple</text>\n",
       "<polyline fill=\"none\" points=\"208,-272.5 297,-272.5 \" stroke=\"#000000\"/>\n",
       "<text fill=\"#000000\" font-family=\"Times,serif\" font-size=\"14.00\" text-anchor=\"middle\" x=\"252.5\" y=\"-257.3\">(None, 2048)</text>\n",
       "</g>\n",
       "<!-- 140064803539544&#45;&gt;140065879933056 -->\n",
       "<g class=\"edge\" id=\"edge4\">\n",
       "<title>140064803539544-&gt;140065879933056</title>\n",
       "<path d=\"M157.0711,-332.3799C159.0698,-324.0854 161.3643,-314.5633 163.5268,-305.5889\" fill=\"none\" stroke=\"#000000\"/>\n",
       "<polygon fill=\"#000000\" points=\"166.9493,-306.3257 165.8894,-295.784 160.1441,-304.6858 166.9493,-306.3257\" stroke=\"#000000\"/>\n",
       "</g>\n",
       "<!-- 140064804555632 -->\n",
       "<g class=\"node\" id=\"node7\">\n",
       "<title>140064804555632</title>\n",
       "<polygon fill=\"none\" points=\"335,-249.5 335,-295.5 610,-295.5 610,-249.5 335,-249.5\" stroke=\"#000000\"/>\n",
       "<text fill=\"#000000\" font-family=\"Times,serif\" font-size=\"14.00\" text-anchor=\"middle\" x=\"400.5\" y=\"-268.8\">inception_v3: Model</text>\n",
       "<polyline fill=\"none\" points=\"466,-249.5 466,-295.5 \" stroke=\"#000000\"/>\n",
       "<text fill=\"#000000\" font-family=\"Times,serif\" font-size=\"14.00\" text-anchor=\"middle\" x=\"493.5\" y=\"-280.3\">input:</text>\n",
       "<polyline fill=\"none\" points=\"466,-272.5 521,-272.5 \" stroke=\"#000000\"/>\n",
       "<text fill=\"#000000\" font-family=\"Times,serif\" font-size=\"14.00\" text-anchor=\"middle\" x=\"493.5\" y=\"-257.3\">output:</text>\n",
       "<polyline fill=\"none\" points=\"521,-249.5 521,-295.5 \" stroke=\"#000000\"/>\n",
       "<text fill=\"#000000\" font-family=\"Times,serif\" font-size=\"14.00\" text-anchor=\"middle\" x=\"565.5\" y=\"-280.3\">multiple</text>\n",
       "<polyline fill=\"none\" points=\"521,-272.5 610,-272.5 \" stroke=\"#000000\"/>\n",
       "<text fill=\"#000000\" font-family=\"Times,serif\" font-size=\"14.00\" text-anchor=\"middle\" x=\"565.5\" y=\"-257.3\">(None, 2048)</text>\n",
       "</g>\n",
       "<!-- 140064803539712&#45;&gt;140064804555632 -->\n",
       "<g class=\"edge\" id=\"edge5\">\n",
       "<title>140064803539712-&gt;140064804555632</title>\n",
       "<path d=\"M472.5,-332.3799C472.5,-324.1745 472.5,-314.7679 472.5,-305.8786\" fill=\"none\" stroke=\"#000000\"/>\n",
       "<polygon fill=\"#000000\" points=\"476.0001,-305.784 472.5,-295.784 469.0001,-305.784 476.0001,-305.784\" stroke=\"#000000\"/>\n",
       "</g>\n",
       "<!-- 140070069648520 -->\n",
       "<g class=\"node\" id=\"node8\">\n",
       "<title>140070069648520</title>\n",
       "<polygon fill=\"none\" points=\"231.5,-166.5 231.5,-212.5 713.5,-212.5 713.5,-166.5 231.5,-166.5\" stroke=\"#000000\"/>\n",
       "<text fill=\"#000000\" font-family=\"Times,serif\" font-size=\"14.00\" text-anchor=\"middle\" x=\"315.5\" y=\"-185.8\">concatenate_3: Concatenate</text>\n",
       "<polyline fill=\"none\" points=\"399.5,-166.5 399.5,-212.5 \" stroke=\"#000000\"/>\n",
       "<text fill=\"#000000\" font-family=\"Times,serif\" font-size=\"14.00\" text-anchor=\"middle\" x=\"427\" y=\"-197.3\">input:</text>\n",
       "<polyline fill=\"none\" points=\"399.5,-189.5 454.5,-189.5 \" stroke=\"#000000\"/>\n",
       "<text fill=\"#000000\" font-family=\"Times,serif\" font-size=\"14.00\" text-anchor=\"middle\" x=\"427\" y=\"-174.3\">output:</text>\n",
       "<polyline fill=\"none\" points=\"454.5,-166.5 454.5,-212.5 \" stroke=\"#000000\"/>\n",
       "<text fill=\"#000000\" font-family=\"Times,serif\" font-size=\"14.00\" text-anchor=\"middle\" x=\"584\" y=\"-197.3\">[(None, 2048), (None, 2048), (None, 2048)]</text>\n",
       "<polyline fill=\"none\" points=\"454.5,-189.5 713.5,-189.5 \" stroke=\"#000000\"/>\n",
       "<text fill=\"#000000\" font-family=\"Times,serif\" font-size=\"14.00\" text-anchor=\"middle\" x=\"584\" y=\"-174.3\">(None, 6144)</text>\n",
       "</g>\n",
       "<!-- 140066045255240&#45;&gt;140070069648520 -->\n",
       "<g class=\"edge\" id=\"edge6\">\n",
       "<title>140066045255240-&gt;140070069648520</title>\n",
       "<path d=\"M692.9455,-249.4901C653.8576,-238.853 607.2837,-226.1788 567.0374,-215.2266\" fill=\"none\" stroke=\"#000000\"/>\n",
       "<polygon fill=\"#000000\" points=\"567.7871,-211.8034 557.219,-212.5547 565.949,-218.5577 567.7871,-211.8034\" stroke=\"#000000\"/>\n",
       "</g>\n",
       "<!-- 140065879933056&#45;&gt;140070069648520 -->\n",
       "<g class=\"edge\" id=\"edge7\">\n",
       "<title>140065879933056-&gt;140070069648520</title>\n",
       "<path d=\"M254.9456,-249.4901C293.5209,-238.853 339.484,-226.1788 379.2025,-215.2266\" fill=\"none\" stroke=\"#000000\"/>\n",
       "<polygon fill=\"#000000\" points=\"380.1823,-218.5871 388.8921,-212.5547 378.3215,-211.8389 380.1823,-218.5871\" stroke=\"#000000\"/>\n",
       "</g>\n",
       "<!-- 140064804555632&#45;&gt;140070069648520 -->\n",
       "<g class=\"edge\" id=\"edge8\">\n",
       "<title>140064804555632-&gt;140070069648520</title>\n",
       "<path d=\"M472.5,-249.3799C472.5,-241.1745 472.5,-231.7679 472.5,-222.8786\" fill=\"none\" stroke=\"#000000\"/>\n",
       "<polygon fill=\"#000000\" points=\"476.0001,-222.784 472.5,-212.784 469.0001,-222.784 476.0001,-222.784\" stroke=\"#000000\"/>\n",
       "</g>\n",
       "<!-- 140070069648688 -->\n",
       "<g class=\"node\" id=\"node9\">\n",
       "<title>140070069648688</title>\n",
       "<polygon fill=\"none\" points=\"333,-83.5 333,-129.5 612,-129.5 612,-83.5 333,-83.5\" stroke=\"#000000\"/>\n",
       "<text fill=\"#000000\" font-family=\"Times,serif\" font-size=\"14.00\" text-anchor=\"middle\" x=\"400.5\" y=\"-102.8\">dropout_top: Dropout</text>\n",
       "<polyline fill=\"none\" points=\"468,-83.5 468,-129.5 \" stroke=\"#000000\"/>\n",
       "<text fill=\"#000000\" font-family=\"Times,serif\" font-size=\"14.00\" text-anchor=\"middle\" x=\"495.5\" y=\"-114.3\">input:</text>\n",
       "<polyline fill=\"none\" points=\"468,-106.5 523,-106.5 \" stroke=\"#000000\"/>\n",
       "<text fill=\"#000000\" font-family=\"Times,serif\" font-size=\"14.00\" text-anchor=\"middle\" x=\"495.5\" y=\"-91.3\">output:</text>\n",
       "<polyline fill=\"none\" points=\"523,-83.5 523,-129.5 \" stroke=\"#000000\"/>\n",
       "<text fill=\"#000000\" font-family=\"Times,serif\" font-size=\"14.00\" text-anchor=\"middle\" x=\"567.5\" y=\"-114.3\">(None, 6144)</text>\n",
       "<polyline fill=\"none\" points=\"523,-106.5 612,-106.5 \" stroke=\"#000000\"/>\n",
       "<text fill=\"#000000\" font-family=\"Times,serif\" font-size=\"14.00\" text-anchor=\"middle\" x=\"567.5\" y=\"-91.3\">(None, 6144)</text>\n",
       "</g>\n",
       "<!-- 140070069648520&#45;&gt;140070069648688 -->\n",
       "<g class=\"edge\" id=\"edge9\">\n",
       "<title>140070069648520-&gt;140070069648688</title>\n",
       "<path d=\"M472.5,-166.3799C472.5,-158.1745 472.5,-148.7679 472.5,-139.8786\" fill=\"none\" stroke=\"#000000\"/>\n",
       "<polygon fill=\"#000000\" points=\"476.0001,-139.784 472.5,-129.784 469.0001,-139.784 476.0001,-139.784\" stroke=\"#000000\"/>\n",
       "</g>\n",
       "<!-- 140070069647624 -->\n",
       "<g class=\"node\" id=\"node10\">\n",
       "<title>140070069647624</title>\n",
       "<polygon fill=\"none\" points=\"344,-.5 344,-46.5 601,-46.5 601,-.5 344,-.5\" stroke=\"#000000\"/>\n",
       "<text fill=\"#000000\" font-family=\"Times,serif\" font-size=\"14.00\" text-anchor=\"middle\" x=\"400.5\" y=\"-19.8\">dense_top: Dense</text>\n",
       "<polyline fill=\"none\" points=\"457,-.5 457,-46.5 \" stroke=\"#000000\"/>\n",
       "<text fill=\"#000000\" font-family=\"Times,serif\" font-size=\"14.00\" text-anchor=\"middle\" x=\"484.5\" y=\"-31.3\">input:</text>\n",
       "<polyline fill=\"none\" points=\"457,-23.5 512,-23.5 \" stroke=\"#000000\"/>\n",
       "<text fill=\"#000000\" font-family=\"Times,serif\" font-size=\"14.00\" text-anchor=\"middle\" x=\"484.5\" y=\"-8.3\">output:</text>\n",
       "<polyline fill=\"none\" points=\"512,-.5 512,-46.5 \" stroke=\"#000000\"/>\n",
       "<text fill=\"#000000\" font-family=\"Times,serif\" font-size=\"14.00\" text-anchor=\"middle\" x=\"556.5\" y=\"-31.3\">(None, 6144)</text>\n",
       "<polyline fill=\"none\" points=\"512,-23.5 601,-23.5 \" stroke=\"#000000\"/>\n",
       "<text fill=\"#000000\" font-family=\"Times,serif\" font-size=\"14.00\" text-anchor=\"middle\" x=\"556.5\" y=\"-8.3\">(None, 1)</text>\n",
       "</g>\n",
       "<!-- 140070069648688&#45;&gt;140070069647624 -->\n",
       "<g class=\"edge\" id=\"edge10\">\n",
       "<title>140070069648688-&gt;140070069647624</title>\n",
       "<path d=\"M472.5,-83.3799C472.5,-75.1745 472.5,-65.7679 472.5,-56.8786\" fill=\"none\" stroke=\"#000000\"/>\n",
       "<polygon fill=\"#000000\" points=\"476.0001,-56.784 472.5,-46.784 469.0001,-56.784 476.0001,-56.784\" stroke=\"#000000\"/>\n",
       "</g>\n",
       "</g>\n",
       "</svg>"
      ],
      "text/plain": [
       "<IPython.core.display.SVG object>"
      ]
     },
     "execution_count": 50,
     "metadata": {},
     "output_type": "execute_result"
    }
   ],
   "source": [
    "from IPython.display import SVG\n",
    "from keras.utils.vis_utils import model_to_dot\n",
    "\n",
    "SVG(model_to_dot(model,show_shapes = True).create(prog='dot', format='svg'))"
   ]
  },
  {
   "cell_type": "code",
   "execution_count": null,
   "metadata": {
    "collapsed": true
   },
   "outputs": [],
   "source": []
  }
 ],
 "metadata": {
  "kernelspec": {
   "display_name": "Python 3",
   "language": "python",
   "name": "python3"
  },
  "language_info": {
   "codemirror_mode": {
    "name": "ipython",
    "version": 3
   },
   "file_extension": ".py",
   "mimetype": "text/x-python",
   "name": "python",
   "nbconvert_exporter": "python",
   "pygments_lexer": "ipython3",
   "version": "3.6.3"
  }
 },
 "nbformat": 4,
 "nbformat_minor": 2
}
