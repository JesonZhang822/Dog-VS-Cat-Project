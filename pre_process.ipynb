{
 "cells": [
  {
   "cell_type": "code",
   "execution_count": 1,
   "metadata": {
    "collapsed": true
   },
   "outputs": [],
   "source": [
    "import numpy as np\n",
    "import os\n",
    "import shutil\n",
    "from random import shuffle\n",
    "from tqdm import tqdm\n",
    "\n",
    "def pre_process(train_path,data_path,n=1250,ratio=0.2):\n",
    "    #检查data_path 目录是否存在，如果存在，则删除，重新建立新的目录\n",
    "    if os.path.exists(data_path):\n",
    "        shutil.rmtree(data_path,True)\n",
    "    os.mkdir(data_path)\n",
    "    \n",
    "    for name in ['cats','dogs']:\n",
    "        os.makedirs('{}/train/{}/'.format(data_path,name))\n",
    "        os.makedirs('{}/validation/{}/'.format(data_path,name))\n",
    "    \n",
    "    #获取文件名，并打乱顺序，为后期随机采样做准备\n",
    "    filenames = os.listdir(train_path)\n",
    "    shuffle(filenames)\n",
    "    \n",
    "    cat_files = list(filter(lambda x:x[:3] == 'cat', filenames))\n",
    "    dog_files = list(filter(lambda x:x[:3] == 'dog', filenames))\n",
    "   \n",
    "    # m 为训练集的dogs 或者 cats的数量，ratio 为 验证集占数据集n的比例\n",
    "    m = int(n*(1-ratio)) /2 \n",
    "   \n",
    "    for i in tqdm(range(int(n/2))):\n",
    "        if i < m :\n",
    "            shutil.copyfile('{}/{}'.format(train_path,cat_files[i]),'{}/train/cats/{}'.format(data_path,cat_files[i]))\n",
    "            shutil.copyfile('{}/{}'.format(train_path,dog_files[i]),'{}/train/dogs/{}'.format(data_path,dog_files[i]))\n",
    "        else:\n",
    "            shutil.copyfile('{}/{}'.format(train_path,cat_files[i]),'{}/validation/cats/{}'.format(data_path,cat_files[i]))\n",
    "            shutil.copyfile('{}/{}'.format(train_path,dog_files[i]),'{}/validation/dogs/{}'.format(data_path,dog_files[i]))\n",
    "            \n",
    "def pre_test(test_path,test_gen_path,n=1000):\n",
    "    \n",
    "    if os.path.exists(test_gen_path):\n",
    "        shutil.rmtree(test_gen_path,True)\n",
    "    os.mkdir(test_gen_path)\n",
    "    os.mkdir('{}/test'.format(test_gen_path))\n",
    "    \n",
    "    test_files = os.listdir(test_path)\n",
    "    test_files = test_files[:n]\n",
    "    \n",
    "    for file in tqdm(test_files):\n",
    "        shutil.copyfile('{}/{}'.format(test_path,file),'{}/test/{}'.format(test_gen_path,file))"
   ]
  },
  {
   "cell_type": "code",
   "execution_count": 2,
   "metadata": {},
   "outputs": [
    {
     "name": "stderr",
     "output_type": "stream",
     "text": [
      "100%|██████████| 12500/12500 [02:53<00:00, 72.17it/s]\n"
     ]
    }
   ],
   "source": [
    "pre_process('train','data_gen',n = 25000,ratio = 0.2)"
   ]
  },
  {
   "cell_type": "code",
   "execution_count": 4,
   "metadata": {},
   "outputs": [
    {
     "name": "stderr",
     "output_type": "stream",
     "text": [
      "100%|██████████| 12500/12500 [00:47<00:00, 261.17it/s]\n"
     ]
    }
   ],
   "source": [
    "pre_test('test','test_gen',n = 12500)"
   ]
  },
  {
   "cell_type": "code",
   "execution_count": 5,
   "metadata": {},
   "outputs": [
    {
     "name": "stderr",
     "output_type": "stream",
     "text": [
      "/home/ubuntu/anaconda3/envs/tensorflow_p36/lib/python3.6/site-packages/h5py/__init__.py:36: FutureWarning: Conversion of the second argument of issubdtype from `float` to `np.floating` is deprecated. In future, it will be treated as `np.float64 == np.dtype(float).type`.\n",
      "  from ._conv import register_converters as _register_converters\n",
      "Using TensorFlow backend.\n",
      "/home/ubuntu/anaconda3/envs/tensorflow_p36/lib/python3.6/site-packages/matplotlib/__init__.py:1067: UserWarning: Duplicate key in file \"/home/ubuntu/.config/matplotlib/matplotlibrc\", line #2\n",
      "  (fname, cnt))\n",
      "/home/ubuntu/anaconda3/envs/tensorflow_p36/lib/python3.6/site-packages/matplotlib/__init__.py:1067: UserWarning: Duplicate key in file \"/home/ubuntu/.config/matplotlib/matplotlibrc\", line #3\n",
      "  (fname, cnt))\n"
     ]
    }
   ],
   "source": [
    "from keras.applications.resnet50 import ResNet50\n",
    "from keras.models import Model\n",
    "from keras.layers import Dense,Input,GlobalAveragePooling2D,Dropout,Lambda\n",
    "from keras.optimizers import SGD,RMSprop\n",
    "from keras.applications.xception import Xception\n",
    "from keras.applications.inception_v3 import InceptionV3\n",
    "from keras.preprocessing.image import ImageDataGenerator\n",
    "\n",
    "from keras.applications import xception,inception_v3\n",
    "\n",
    "\n",
    "import h5py\n",
    "\n",
    "def gap_pred(MODEL, image_size, pool=None,lambda_func=None):\n",
    "    width = image_size[0]\n",
    "    height = image_size[1]\n",
    "    input_tensor = Input((height, width, 3))\n",
    "    x = input_tensor\n",
    "    \n",
    "    # 根据不同的模型，进行数据预处理\n",
    "    if lambda_func:\n",
    "        x = Lambda(lambda_func)(x)\n",
    "        \n",
    "    #导入预训练模型，并导入权重   \n",
    "    model = MODEL(input_tensor=x, weights='imagenet', include_top=False,pooling = pool)\n",
    "\n",
    "    #通过generator生成数据\n",
    "    image_gen = ImageDataGenerator()\n",
    "    train_gen = image_gen.flow_from_directory(\"data_gen/train\", image_size, shuffle=False, batch_size=32)\n",
    "    valid_gen = image_gen.flow_from_directory('data_gen/validation',image_size,shuffle = False,batch_size = 32)\n",
    "    test_gen  = image_gen.flow_from_directory(\"test_gen\", image_size, shuffle=False, batch_size=32, class_mode=None)\n",
    "\n",
    "    #通过predict 导出特征向量\n",
    "    train = model.predict_generator(train_gen)\n",
    "    valid = model.predict_generator(valid_gen)\n",
    "    test = model.predict_generator(test_gen)\n",
    "    \n",
    "    #将特征向量保存为h5文件\n",
    "    with h5py.File(\"gap_pred_%s.h5\"%model.name) as h:\n",
    "        h.create_dataset(\"train\", data=train)\n",
    "        h.create_dataset(\"valid\",data=valid)\n",
    "        h.create_dataset(\"test\", data=test)\n",
    "\n",
    "        h.create_dataset(\"train_label\", data=train_gen.classes)\n",
    "        h.create_dataset(\"valid_label\",data = valid_gen.classes)"
   ]
  },
  {
   "cell_type": "code",
   "execution_count": 6,
   "metadata": {},
   "outputs": [
    {
     "name": "stdout",
     "output_type": "stream",
     "text": [
      "Found 20000 images belonging to 2 classes.\n",
      "Found 5000 images belonging to 2 classes.\n",
      "Found 12500 images belonging to 1 classes.\n"
     ]
    }
   ],
   "source": [
    "gap_pred(ResNet50,(224,224),pool='avg')"
   ]
  },
  {
   "cell_type": "code",
   "execution_count": 7,
   "metadata": {
    "scrolled": true
   },
   "outputs": [
    {
     "name": "stdout",
     "output_type": "stream",
     "text": [
      "Downloading data from https://github.com/fchollet/deep-learning-models/releases/download/v0.4/xception_weights_tf_dim_ordering_tf_kernels_notop.h5\n",
      "83689472/83683744 [==============================] - 1s 0us/step\n",
      "Found 20000 images belonging to 2 classes.\n",
      "Found 5000 images belonging to 2 classes.\n",
      "Found 12500 images belonging to 1 classes.\n"
     ]
    }
   ],
   "source": [
    "gap_pred(Xception,(299,299),pool='avg',lambda_func=xception.preprocess_input)"
   ]
  },
  {
   "cell_type": "code",
   "execution_count": 8,
   "metadata": {},
   "outputs": [
    {
     "name": "stdout",
     "output_type": "stream",
     "text": [
      "Downloading data from https://github.com/fchollet/deep-learning-models/releases/download/v0.5/inception_v3_weights_tf_dim_ordering_tf_kernels_notop.h5\n",
      "87916544/87910968 [==============================] - 1s 0us/step\n",
      "Found 20000 images belonging to 2 classes.\n",
      "Found 5000 images belonging to 2 classes.\n",
      "Found 12500 images belonging to 1 classes.\n"
     ]
    }
   ],
   "source": [
    "gap_pred(InceptionV3,(299,299),pool = 'avg',lambda_func=inception_v3.preprocess_input)"
   ]
  },
  {
   "cell_type": "code",
   "execution_count": null,
   "metadata": {
    "collapsed": true
   },
   "outputs": [],
   "source": []
  }
 ],
 "metadata": {
  "kernelspec": {
   "display_name": "Python 3",
   "language": "python",
   "name": "python3"
  },
  "language_info": {
   "codemirror_mode": {
    "name": "ipython",
    "version": 3
   },
   "file_extension": ".py",
   "mimetype": "text/x-python",
   "name": "python",
   "nbconvert_exporter": "python",
   "pygments_lexer": "ipython3",
   "version": "3.6.3"
  }
 },
 "nbformat": 4,
 "nbformat_minor": 2
}
